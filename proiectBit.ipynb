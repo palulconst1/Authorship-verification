{
  "cells": [
    {
      "cell_type": "code",
      "execution_count": null,
      "metadata": {
        "id": "KZhORGy3GvfV"
      },
      "outputs": [],
      "source": [
        "import pandas as pd\n",
        "import numpy as np\n",
        "import torch\n",
        "import json\n",
        "import gc\n",
        "gc.collect()\n",
        "DEVICE = \"cuda\" if torch.cuda.is_available() else \"cpu\""
      ]
    },
    {
      "cell_type": "code",
      "execution_count": null,
      "metadata": {
        "id": "3LxovQYlXnVs"
      },
      "outputs": [],
      "source": [
        "dataTruth = pd.read_json(\"/content/drive/MyDrive/pan20-authorship-verification-training-small-truth.jsonl\", lines=True)"
      ]
    },
    {
      "cell_type": "code",
      "execution_count": null,
      "metadata": {
        "colab": {
          "base_uri": "https://localhost:8080/",
          "height": 389
        },
        "id": "WSnx9lDyLHaJ",
        "outputId": "7dcb3a8c-0b65-4b7d-8722-72894c11cdd2"
      },
      "outputs": [
        {
          "data": {
            "text/html": [
              "\n",
              "  <div id=\"df-3ff4dbde-47f2-4c78-8218-7c00382ae834\">\n",
              "    <div class=\"colab-df-container\">\n",
              "      <div>\n",
              "<style scoped>\n",
              "    .dataframe tbody tr th:only-of-type {\n",
              "        vertical-align: middle;\n",
              "    }\n",
              "\n",
              "    .dataframe tbody tr th {\n",
              "        vertical-align: top;\n",
              "    }\n",
              "\n",
              "    .dataframe thead th {\n",
              "        text-align: right;\n",
              "    }\n",
              "</style>\n",
              "<table border=\"1\" class=\"dataframe\">\n",
              "  <thead>\n",
              "    <tr style=\"text-align: right;\">\n",
              "      <th></th>\n",
              "      <th>id</th>\n",
              "      <th>same</th>\n",
              "      <th>authors</th>\n",
              "    </tr>\n",
              "  </thead>\n",
              "  <tbody>\n",
              "    <tr>\n",
              "      <th>0</th>\n",
              "      <td>6cced668-6e51-5212-873c-717f2bc91ce6</td>\n",
              "      <td>True</td>\n",
              "      <td>[1446633, 1446633]</td>\n",
              "    </tr>\n",
              "    <tr>\n",
              "      <th>1</th>\n",
              "      <td>3c6c188a-db28-59aa-8c09-3d0f799ff579</td>\n",
              "      <td>True</td>\n",
              "      <td>[1446633, 1446633]</td>\n",
              "    </tr>\n",
              "    <tr>\n",
              "      <th>2</th>\n",
              "      <td>b0cfa94f-c9ec-5aa5-8331-a5a249b664cf</td>\n",
              "      <td>True</td>\n",
              "      <td>[1446633, 1446633]</td>\n",
              "    </tr>\n",
              "    <tr>\n",
              "      <th>3</th>\n",
              "      <td>e6e86e73-9a7b-58f2-a652-a17b4a1bcabf</td>\n",
              "      <td>True</td>\n",
              "      <td>[1446633, 1446633]</td>\n",
              "    </tr>\n",
              "    <tr>\n",
              "      <th>4</th>\n",
              "      <td>4fe541af-912e-5a86-81a5-94c6d3891509</td>\n",
              "      <td>True</td>\n",
              "      <td>[1446633, 1446633]</td>\n",
              "    </tr>\n",
              "  </tbody>\n",
              "</table>\n",
              "</div>\n",
              "      <button class=\"colab-df-convert\" onclick=\"convertToInteractive('df-3ff4dbde-47f2-4c78-8218-7c00382ae834')\"\n",
              "              title=\"Convert this dataframe to an interactive table.\"\n",
              "              style=\"display:none;\">\n",
              "        \n",
              "  <svg xmlns=\"http://www.w3.org/2000/svg\" height=\"24px\"viewBox=\"0 0 24 24\"\n",
              "       width=\"24px\">\n",
              "    <path d=\"M0 0h24v24H0V0z\" fill=\"none\"/>\n",
              "    <path d=\"M18.56 5.44l.94 2.06.94-2.06 2.06-.94-2.06-.94-.94-2.06-.94 2.06-2.06.94zm-11 1L8.5 8.5l.94-2.06 2.06-.94-2.06-.94L8.5 2.5l-.94 2.06-2.06.94zm10 10l.94 2.06.94-2.06 2.06-.94-2.06-.94-.94-2.06-.94 2.06-2.06.94z\"/><path d=\"M17.41 7.96l-1.37-1.37c-.4-.4-.92-.59-1.43-.59-.52 0-1.04.2-1.43.59L10.3 9.45l-7.72 7.72c-.78.78-.78 2.05 0 2.83L4 21.41c.39.39.9.59 1.41.59.51 0 1.02-.2 1.41-.59l7.78-7.78 2.81-2.81c.8-.78.8-2.07 0-2.86zM5.41 20L4 18.59l7.72-7.72 1.47 1.35L5.41 20z\"/>\n",
              "  </svg>\n",
              "      </button>\n",
              "      \n",
              "  <style>\n",
              "    .colab-df-container {\n",
              "      display:flex;\n",
              "      flex-wrap:wrap;\n",
              "      gap: 12px;\n",
              "    }\n",
              "\n",
              "    .colab-df-convert {\n",
              "      background-color: #E8F0FE;\n",
              "      border: none;\n",
              "      border-radius: 50%;\n",
              "      cursor: pointer;\n",
              "      display: none;\n",
              "      fill: #1967D2;\n",
              "      height: 32px;\n",
              "      padding: 0 0 0 0;\n",
              "      width: 32px;\n",
              "    }\n",
              "\n",
              "    .colab-df-convert:hover {\n",
              "      background-color: #E2EBFA;\n",
              "      box-shadow: 0px 1px 2px rgba(60, 64, 67, 0.3), 0px 1px 3px 1px rgba(60, 64, 67, 0.15);\n",
              "      fill: #174EA6;\n",
              "    }\n",
              "\n",
              "    [theme=dark] .colab-df-convert {\n",
              "      background-color: #3B4455;\n",
              "      fill: #D2E3FC;\n",
              "    }\n",
              "\n",
              "    [theme=dark] .colab-df-convert:hover {\n",
              "      background-color: #434B5C;\n",
              "      box-shadow: 0px 1px 3px 1px rgba(0, 0, 0, 0.15);\n",
              "      filter: drop-shadow(0px 1px 2px rgba(0, 0, 0, 0.3));\n",
              "      fill: #FFFFFF;\n",
              "    }\n",
              "  </style>\n",
              "\n",
              "      <script>\n",
              "        const buttonEl =\n",
              "          document.querySelector('#df-3ff4dbde-47f2-4c78-8218-7c00382ae834 button.colab-df-convert');\n",
              "        buttonEl.style.display =\n",
              "          google.colab.kernel.accessAllowed ? 'block' : 'none';\n",
              "\n",
              "        async function convertToInteractive(key) {\n",
              "          const element = document.querySelector('#df-3ff4dbde-47f2-4c78-8218-7c00382ae834');\n",
              "          const dataTable =\n",
              "            await google.colab.kernel.invokeFunction('convertToInteractive',\n",
              "                                                     [key], {});\n",
              "          if (!dataTable) return;\n",
              "\n",
              "          const docLinkHtml = 'Like what you see? Visit the ' +\n",
              "            '<a target=\"_blank\" href=https://colab.research.google.com/notebooks/data_table.ipynb>data table notebook</a>'\n",
              "            + ' to learn more about interactive tables.';\n",
              "          element.innerHTML = '';\n",
              "          dataTable['output_type'] = 'display_data';\n",
              "          await google.colab.output.renderOutput(dataTable, element);\n",
              "          const docLink = document.createElement('div');\n",
              "          docLink.innerHTML = docLinkHtml;\n",
              "          element.appendChild(docLink);\n",
              "        }\n",
              "      </script>\n",
              "    </div>\n",
              "  </div>\n",
              "  "
            ],
            "text/plain": [
              "                                     id  same             authors\n",
              "0  6cced668-6e51-5212-873c-717f2bc91ce6  True  [1446633, 1446633]\n",
              "1  3c6c188a-db28-59aa-8c09-3d0f799ff579  True  [1446633, 1446633]\n",
              "2  b0cfa94f-c9ec-5aa5-8331-a5a249b664cf  True  [1446633, 1446633]\n",
              "3  e6e86e73-9a7b-58f2-a652-a17b4a1bcabf  True  [1446633, 1446633]\n",
              "4  4fe541af-912e-5a86-81a5-94c6d3891509  True  [1446633, 1446633]"
            ]
          },
          "execution_count": 3,
          "metadata": {},
          "output_type": "execute_result"
        }
      ],
      "source": [
        "dataTruth.head()"
      ]
    },
    {
      "cell_type": "code",
      "execution_count": null,
      "metadata": {
        "id": "qqbqaTcoVhA1"
      },
      "outputs": [],
      "source": [
        "with open('/content/drive/MyDrive/pan20-authorship-verification-training-small.jsonl') as json_file:      \n",
        "    data = json_file.readlines()\n",
        "    data = list(map(json.loads, data))\n",
        "    json_file.close()\n",
        "\n",
        "data = pd.DataFrame(data)"
      ]
    },
    {
      "cell_type": "code",
      "execution_count": null,
      "metadata": {
        "colab": {
          "base_uri": "https://localhost:8080/",
          "height": 600
        },
        "id": "DfmIPpNhLFVt",
        "outputId": "f42daa2e-015a-4f18-98c8-98448f3eeadb"
      },
      "outputs": [
        {
          "data": {
            "text/html": [
              "\n",
              "  <div id=\"df-702d0fc9-2af5-42fa-b3bb-1c3861e5be3d\">\n",
              "    <div class=\"colab-df-container\">\n",
              "      <div>\n",
              "<style scoped>\n",
              "    .dataframe tbody tr th:only-of-type {\n",
              "        vertical-align: middle;\n",
              "    }\n",
              "\n",
              "    .dataframe tbody tr th {\n",
              "        vertical-align: top;\n",
              "    }\n",
              "\n",
              "    .dataframe thead th {\n",
              "        text-align: right;\n",
              "    }\n",
              "</style>\n",
              "<table border=\"1\" class=\"dataframe\">\n",
              "  <thead>\n",
              "    <tr style=\"text-align: right;\">\n",
              "      <th></th>\n",
              "      <th>id</th>\n",
              "      <th>fandoms</th>\n",
              "      <th>pair</th>\n",
              "    </tr>\n",
              "  </thead>\n",
              "  <tbody>\n",
              "    <tr>\n",
              "      <th>0</th>\n",
              "      <td>6cced668-6e51-5212-873c-717f2bc91ce6</td>\n",
              "      <td>[Guardians of Ga'Hoole, Hetalia - Axis Powers]</td>\n",
              "      <td>[I shift a bit, warily letting my eyes dart fr...</td>\n",
              "    </tr>\n",
              "    <tr>\n",
              "      <th>1</th>\n",
              "      <td>3c6c188a-db28-59aa-8c09-3d0f799ff579</td>\n",
              "      <td>[Guardians of Ga'Hoole, Warriors]</td>\n",
              "      <td>[I shift a bit, warily letting my eyes dart fr...</td>\n",
              "    </tr>\n",
              "    <tr>\n",
              "      <th>2</th>\n",
              "      <td>b0cfa94f-c9ec-5aa5-8331-a5a249b664cf</td>\n",
              "      <td>[Guardians of Ga'Hoole, Xiaolin Showdown]</td>\n",
              "      <td>[A single tear escaped me as I left. I did hav...</td>\n",
              "    </tr>\n",
              "    <tr>\n",
              "      <th>3</th>\n",
              "      <td>e6e86e73-9a7b-58f2-a652-a17b4a1bcabf</td>\n",
              "      <td>[Hetalia - Axis Powers, Warriors]</td>\n",
              "      <td>[\"Ja.\" Ludwig kept his gaze upon her, solidly....</td>\n",
              "    </tr>\n",
              "    <tr>\n",
              "      <th>4</th>\n",
              "      <td>4fe541af-912e-5a86-81a5-94c6d3891509</td>\n",
              "      <td>[Hetalia - Axis Powers, Xiaolin Showdown]</td>\n",
              "      <td>[And he did. Slowly, hesitantly...but coming f...</td>\n",
              "    </tr>\n",
              "  </tbody>\n",
              "</table>\n",
              "</div>\n",
              "      <button class=\"colab-df-convert\" onclick=\"convertToInteractive('df-702d0fc9-2af5-42fa-b3bb-1c3861e5be3d')\"\n",
              "              title=\"Convert this dataframe to an interactive table.\"\n",
              "              style=\"display:none;\">\n",
              "        \n",
              "  <svg xmlns=\"http://www.w3.org/2000/svg\" height=\"24px\"viewBox=\"0 0 24 24\"\n",
              "       width=\"24px\">\n",
              "    <path d=\"M0 0h24v24H0V0z\" fill=\"none\"/>\n",
              "    <path d=\"M18.56 5.44l.94 2.06.94-2.06 2.06-.94-2.06-.94-.94-2.06-.94 2.06-2.06.94zm-11 1L8.5 8.5l.94-2.06 2.06-.94-2.06-.94L8.5 2.5l-.94 2.06-2.06.94zm10 10l.94 2.06.94-2.06 2.06-.94-2.06-.94-.94-2.06-.94 2.06-2.06.94z\"/><path d=\"M17.41 7.96l-1.37-1.37c-.4-.4-.92-.59-1.43-.59-.52 0-1.04.2-1.43.59L10.3 9.45l-7.72 7.72c-.78.78-.78 2.05 0 2.83L4 21.41c.39.39.9.59 1.41.59.51 0 1.02-.2 1.41-.59l7.78-7.78 2.81-2.81c.8-.78.8-2.07 0-2.86zM5.41 20L4 18.59l7.72-7.72 1.47 1.35L5.41 20z\"/>\n",
              "  </svg>\n",
              "      </button>\n",
              "      \n",
              "  <style>\n",
              "    .colab-df-container {\n",
              "      display:flex;\n",
              "      flex-wrap:wrap;\n",
              "      gap: 12px;\n",
              "    }\n",
              "\n",
              "    .colab-df-convert {\n",
              "      background-color: #E8F0FE;\n",
              "      border: none;\n",
              "      border-radius: 50%;\n",
              "      cursor: pointer;\n",
              "      display: none;\n",
              "      fill: #1967D2;\n",
              "      height: 32px;\n",
              "      padding: 0 0 0 0;\n",
              "      width: 32px;\n",
              "    }\n",
              "\n",
              "    .colab-df-convert:hover {\n",
              "      background-color: #E2EBFA;\n",
              "      box-shadow: 0px 1px 2px rgba(60, 64, 67, 0.3), 0px 1px 3px 1px rgba(60, 64, 67, 0.15);\n",
              "      fill: #174EA6;\n",
              "    }\n",
              "\n",
              "    [theme=dark] .colab-df-convert {\n",
              "      background-color: #3B4455;\n",
              "      fill: #D2E3FC;\n",
              "    }\n",
              "\n",
              "    [theme=dark] .colab-df-convert:hover {\n",
              "      background-color: #434B5C;\n",
              "      box-shadow: 0px 1px 3px 1px rgba(0, 0, 0, 0.15);\n",
              "      filter: drop-shadow(0px 1px 2px rgba(0, 0, 0, 0.3));\n",
              "      fill: #FFFFFF;\n",
              "    }\n",
              "  </style>\n",
              "\n",
              "      <script>\n",
              "        const buttonEl =\n",
              "          document.querySelector('#df-702d0fc9-2af5-42fa-b3bb-1c3861e5be3d button.colab-df-convert');\n",
              "        buttonEl.style.display =\n",
              "          google.colab.kernel.accessAllowed ? 'block' : 'none';\n",
              "\n",
              "        async function convertToInteractive(key) {\n",
              "          const element = document.querySelector('#df-702d0fc9-2af5-42fa-b3bb-1c3861e5be3d');\n",
              "          const dataTable =\n",
              "            await google.colab.kernel.invokeFunction('convertToInteractive',\n",
              "                                                     [key], {});\n",
              "          if (!dataTable) return;\n",
              "\n",
              "          const docLinkHtml = 'Like what you see? Visit the ' +\n",
              "            '<a target=\"_blank\" href=https://colab.research.google.com/notebooks/data_table.ipynb>data table notebook</a>'\n",
              "            + ' to learn more about interactive tables.';\n",
              "          element.innerHTML = '';\n",
              "          dataTable['output_type'] = 'display_data';\n",
              "          await google.colab.output.renderOutput(dataTable, element);\n",
              "          const docLink = document.createElement('div');\n",
              "          docLink.innerHTML = docLinkHtml;\n",
              "          element.appendChild(docLink);\n",
              "        }\n",
              "      </script>\n",
              "    </div>\n",
              "  </div>\n",
              "  "
            ],
            "text/plain": [
              "                                     id  \\\n",
              "0  6cced668-6e51-5212-873c-717f2bc91ce6   \n",
              "1  3c6c188a-db28-59aa-8c09-3d0f799ff579   \n",
              "2  b0cfa94f-c9ec-5aa5-8331-a5a249b664cf   \n",
              "3  e6e86e73-9a7b-58f2-a652-a17b4a1bcabf   \n",
              "4  4fe541af-912e-5a86-81a5-94c6d3891509   \n",
              "\n",
              "                                          fandoms  \\\n",
              "0  [Guardians of Ga'Hoole, Hetalia - Axis Powers]   \n",
              "1               [Guardians of Ga'Hoole, Warriors]   \n",
              "2       [Guardians of Ga'Hoole, Xiaolin Showdown]   \n",
              "3               [Hetalia - Axis Powers, Warriors]   \n",
              "4       [Hetalia - Axis Powers, Xiaolin Showdown]   \n",
              "\n",
              "                                                pair  \n",
              "0  [I shift a bit, warily letting my eyes dart fr...  \n",
              "1  [I shift a bit, warily letting my eyes dart fr...  \n",
              "2  [A single tear escaped me as I left. I did hav...  \n",
              "3  [\"Ja.\" Ludwig kept his gaze upon her, solidly....  \n",
              "4  [And he did. Slowly, hesitantly...but coming f...  "
            ]
          },
          "execution_count": 5,
          "metadata": {},
          "output_type": "execute_result"
        }
      ],
      "source": [
        "data.head()"
      ]
    },
    {
      "cell_type": "code",
      "execution_count": null,
      "metadata": {
        "colab": {
          "base_uri": "https://localhost:8080/"
        },
        "id": "n77RBOwMW5cz",
        "outputId": "10707eaa-6194-432e-b4e5-56a4b892315a"
      },
      "outputs": [
        {
          "data": {
            "text/plain": [
              "0         True\n",
              "1         True\n",
              "2         True\n",
              "3         True\n",
              "4         True\n",
              "         ...  \n",
              "52596    False\n",
              "52597    False\n",
              "52598    False\n",
              "52599    False\n",
              "52600    False\n",
              "Name: same, Length: 52601, dtype: bool"
            ]
          },
          "execution_count": 6,
          "metadata": {},
          "output_type": "execute_result"
        }
      ],
      "source": [
        "labels = dataTruth[\"same\"]\n",
        "labels"
      ]
    },
    {
      "cell_type": "code",
      "execution_count": null,
      "metadata": {
        "colab": {
          "base_uri": "https://localhost:8080/"
        },
        "id": "gzw7pGa1evxb",
        "outputId": "6746bb34-8bdd-43f2-9aaa-a699515f54c3"
      },
      "outputs": [
        {
          "data": {
            "text/plain": [
              "0         True\n",
              "1         True\n",
              "2         True\n",
              "3         True\n",
              "4         True\n",
              "         ...  \n",
              "52596    False\n",
              "52597    False\n",
              "52598    False\n",
              "52599    False\n",
              "52600    False\n",
              "Name: same, Length: 11321, dtype: bool"
            ]
          },
          "execution_count": 7,
          "metadata": {},
          "output_type": "execute_result"
        }
      ],
      "source": [
        "labels = pd.concat([labels[:len(labels)//10+1000], labels[-len(labels)//10+200:]])\n",
        "labels"
      ]
    },
    {
      "cell_type": "code",
      "execution_count": null,
      "metadata": {
        "id": "R_vWHqf_XOUN"
      },
      "outputs": [],
      "source": [
        "data = data[\"pair\"]\n",
        "data = pd.concat([data[:len(data)//10+1000], data[-len(data)//10+200:]])\n",
        "data1 = []\n",
        "data2 = []"
      ]
    },
    {
      "cell_type": "code",
      "execution_count": null,
      "metadata": {
        "colab": {
          "base_uri": "https://localhost:8080/"
        },
        "id": "huyZy49frCOf",
        "outputId": "8b894323-be93-4bd1-9ac8-e6d0d3845e6d"
      },
      "outputs": [
        {
          "data": {
            "text/plain": [
              "0        [I shift a bit, warily letting my eyes dart fr...\n",
              "1        [I shift a bit, warily letting my eyes dart fr...\n",
              "2        [A single tear escaped me as I left. I did hav...\n",
              "3        [\"Ja.\" Ludwig kept his gaze upon her, solidly....\n",
              "4        [And he did. Slowly, hesitantly...but coming f...\n",
              "                               ...                        \n",
              "52596    [Enjoy! And time stands still beneath the air ...\n",
              "52597    [\"I forgive you,\" she blurted out looking stra...\n",
              "52598    [\"What? Why? What\"s happening? Where are we go...\n",
              "52599    [\"Gah!\" I growled. \"I need a password to acces...\n",
              "52600    [Chica heard a noise below her and saw Golden ...\n",
              "Name: pair, Length: 11321, dtype: object"
            ]
          },
          "execution_count": 9,
          "metadata": {},
          "output_type": "execute_result"
        }
      ],
      "source": [
        "data"
      ]
    },
    {
      "cell_type": "code",
      "execution_count": null,
      "metadata": {
        "id": "k7H9sg2BXeGB"
      },
      "outputs": [],
      "source": [
        "for i in data:\n",
        "  # print(i)\n",
        "  data1.append(i[0])\n",
        "  data2.append(i[1])"
      ]
    },
    {
      "cell_type": "code",
      "execution_count": null,
      "metadata": {
        "colab": {
          "base_uri": "https://localhost:8080/"
        },
        "id": "XX9gJM49fufk",
        "outputId": "0df5d9eb-bd94-4fb0-9127-35d805b58ae0"
      },
      "outputs": [
        {
          "data": {
            "text/plain": [
              "252"
            ]
          },
          "execution_count": 11,
          "metadata": {},
          "output_type": "execute_result"
        }
      ],
      "source": [
        "del data\n",
        "del dataTruth\n",
        "gc.collect()"
      ]
    },
    {
      "cell_type": "code",
      "execution_count": null,
      "metadata": {
        "colab": {
          "base_uri": "https://localhost:8080/"
        },
        "id": "05h7n2HVhZdz",
        "outputId": "cdde1fd3-9210-4c55-fb18-c5bff254d5cb"
      },
      "outputs": [
        {
          "data": {
            "text/plain": [
              "0         True\n",
              "1         True\n",
              "2         True\n",
              "3         True\n",
              "4         True\n",
              "         ...  \n",
              "52596    False\n",
              "52597    False\n",
              "52598    False\n",
              "52599    False\n",
              "52600    False\n",
              "Name: same, Length: 11321, dtype: bool"
            ]
          },
          "execution_count": 12,
          "metadata": {},
          "output_type": "execute_result"
        }
      ],
      "source": [
        "labels"
      ]
    },
    {
      "cell_type": "code",
      "execution_count": null,
      "metadata": {
        "id": "f2NrLRWeym1A"
      },
      "outputs": [],
      "source": [
        "l = []\n",
        "for i in labels:\n",
        "  if i == True:\n",
        "    l.append(1)\n",
        "  else: \n",
        "    l.append(0)"
      ]
    },
    {
      "cell_type": "code",
      "execution_count": null,
      "metadata": {
        "id": "s1I-0agzyuQ7"
      },
      "outputs": [],
      "source": [
        "labels = l"
      ]
    },
    {
      "cell_type": "code",
      "execution_count": null,
      "metadata": {
        "colab": {
          "base_uri": "https://localhost:8080/"
        },
        "id": "IMEaiQnqzCLc",
        "outputId": "45fbc2bd-2b9c-459e-a399-2f16bab4cd69"
      },
      "outputs": [
        {
          "data": {
            "text/plain": [
              "1"
            ]
          },
          "execution_count": 15,
          "metadata": {},
          "output_type": "execute_result"
        }
      ],
      "source": [
        "labels[0]"
      ]
    },
    {
      "cell_type": "code",
      "execution_count": null,
      "metadata": {
        "id": "aWpUzzj6Qdhg"
      },
      "outputs": [],
      "source": [
        "v = list(zip(data1, data2))"
      ]
    },
    {
      "cell_type": "code",
      "execution_count": null,
      "metadata": {
        "colab": {
          "base_uri": "https://localhost:8080/"
        },
        "id": "W_KZKA2WQih4",
        "outputId": "7e27238f-5ceb-4cda-9cd7-dd6170080524"
      },
      "outputs": [
        {
          "data": {
            "text/plain": [
              "('I shift a bit, warily letting my eyes dart from one owl to the other -- but my eyes are trained on the Barn Owl the most. Like Hoole...so like Hoole... He turns a bit, and our eyes meet directly. I can\"t describe it...in this next moment, I don\"t look away, how awkward it seems. I stare into his eyes. They\"re like Hoole\"s... They are Barn Owl eyes, but Hoole\"s eyes. They\"re his eyes...Hoole\"s eyes... They hold that light of valor, justice, that one glow that I always made me feel my gizzard twitch in the bottom of my heart. Hoole... He never wanted me, did he? He loved me, but only who I was pretending to be. He never loved me, only Emerilla...lucky owl. I just wanted to belong -- because I was nothing -- and he gave me that. He was so fair, so kind...he gave me something even Kreeth could not. Mum and Da -- Ygryk and Pleek -- were supposed to be my parents. I was supposed to be their chick, Lutta. Yet they left me. They talked about me behind my back...I was a freak. My own parents loathed me. Oh, they tried, but they left in the end. They didn\"t love me. Kreeth used me. No one really loved me, or even looked at me normally. All I was was a freak, nothing at all. Then he came along. Him, Hoole. The only one who let me belong, looked at me with kindness in his gaze, not looking like I was a...monster... Why was I born? Not one person cared about me. I was just freak my parents didn\"t want, a weapon for auntie\"s uses, and a fake to my only love. He cared, but didn\"t know me. In the end, I was a monster to him too. Now I\"m back. And now I wonder... I suddenly stiffen as I think up to a thought. \"What happened?\" I shoot up and stare into those kind eyes. I trust him to answer. \"Please, who are you? Where am I? Where\"s...Where\"s\"--I choke up, but the question is already on my tongue--\"Hoole?\" My talons clench as the name leaves me. At once, I see sympathy clearly written over their faces. A pang enters my heart. Sympathy for me? A nothing? \"Lutta.\" Sweet words again, and I suddenly wonder how this Barn Owl knows my name. \"It\"s hard to explain, but please...\" \"Listen carefully.\" Everyone, including me, jumps as the Great Gray speaks -- in a rather booming voice -- for the first time. The Elf Owl frowns at him. The older Barn Owl gives him a quick nudge. Words tumble from the young Barn Owl\"s beak. \"Lutta, we read about you in legends. It\"s been a long time since you were... \"Well, you\"re at the Great Ga\"Hoole Tree, and it\"s been a long time since you were...\" His voice dies down as he hesitates. \"Dead,\" the older Barn Owl finishes. He says it with that sympathy shown in his eyes. \"It\"s been thousands of years from your time, and we read about you from some legends about some...events...\" He clears his throat, determined to go on. \"Coryn here\"--a gesture at the young Barn Owl--\"is the king. I\"m his uncle, Soren. This is Gylfie\"--a gesture at the Elf Owl, who nods in greeting--\"Twilight,\" the Great Gray, \"and Digger\"--what a funny looking Burrowing Owl. \"My uncle and his friends are called the Band,\" Coryn adds. I let this newfound information seep in. Thousands of years? Could this be possible? I was dead, right? It\"s been so long -- and...I was dead? How...? \"I have a GIZZARD!\" \"You do not have a gizzard, you fool! you idiot! I created you.\" \"You created me, but I created this gizzard!\" \"No!\" What is this? \"Emerilla?\" He turns as I change. He knows now...what am I to do? Dismay spreads through my body. He\"ll probably think I\"m a freak too, and he\"ll hate me. But I love him! In the next second, I\"m flying at him. Adrenline floods me as I feel...am I losing myself? This gref... He\"ll hate me now. I slam into him, and he flies backward. \"I love you!\" I want to scream. I want to scream those three words. To let him understand. I want to scream, \"I love you!\" Then, an enexpected blow to the back of my head. Pain. Unexpected pain. Then talons, stopping me in my tracks. Talons...digging into me, slashing everywhere. My vision spins to red. I\"m being ripped apart at the seams. Torn. No... Why are you...? I sink, and I fall apart, literally. My feathers fall off, as my body becomes a lump of darkness. A lump of feathers. I truly am nothing... You\"d expect a real body when one is torn by claws -- and yet...feathers only. My phantom gizzard lurches. \"Half-hags!\" \"I had to kill her.\" WHY? \"She pretended to be my Emerilla.\" Is that all! I\"m going to die like this! Just because I was an imposter! \"I knew from the start that something was not right about her. A blood deception she was -- a hagsfiend.\" Anger -- hot, seeping rage enters me. And cold feelings. Feeling that make me want to shed tears. \"No!\" I manage. \"Who are you?\" Who? Hoole...you accept me as someone? Hoole... \"I am nothing...and yet, I loved...\" I loved... \"Lutta?\" \"Hey! Are you all right?\" \"What\"s wrong? Lutta!\" I sink down as my mind spins. Then, I black out. All was dark except for the fluttering movement of wings -- brown wings. A Barn Owl shifted in the branches of the magnificent tree, her dark eyes gleaming as she looked into the hollow. How strange that she could get so close to the tree so easily. She was but a sillhouette against the branched skies. She eyed the hollow, and the inhabitants. Her son...too bad she would have to kill him. He would have made a fine pure owl, had he not inherited his uncle\"s stupid softness. She could just kill him, right there and then. How easy, that everything she had been working for for the last few months would just be completed now, so easily. She could easily snatch the ember, then swoop in and kill Coryn, his disgraceful uncle, and get her dear mate\"s -- rest his soul -- revenge. Then, kill those pathetic owls that were always around Soren, and anyone else she comes across in the tree, just for a bonus. It would be wonderful to see their pained, stupefied faces as she sank her claws through their feathers, one by one. Then she saw the hagsfiend, and her eyes widened in horror. I am the last! How is this possible? Why is she in that hollow! She could just kill her as well -- but her eyes caught something, and her gizzard twitched. No...she\"ll just stay back and observe. This hagsfiend could prove some use to her and... Sadistic impulse shot through Nyra\"s gizzard. The adoring gleam in the hagsfiend\"s eye as she stared at Nyroc. No, she\"ll wait. Nyra silently spread her wings and swooped into the night sky. She had plotting to do. PT: Please, enjoy :) I hope I can fill up some holes in the story as soon as I can. Though, they\"re there for suspense. Please review! Nothing, Yet A Love Never Dying PT: THANKS SO MUCH FOR READING, EVERYONE!! Enjoy! I have a little more to say: I know the last book already came out, and I\"ve finished it already. I\"m a little stunned, but in courtesy of those who have not yet finished it, I won\"t spoil it. However, despite the end, I\"m continuing the fic the way it is. I\"ve just noticed how much I\"ve been neglecting the story O.o Anyways, I was rather...displeased with a few stories stuck in the GoGH fandom, and while I was planning to leave it after finishing this fic, I might a few more fics for this. Not that I have hubris...I just...don\"t know...I just think I\"ll contribute to the fandom with a few fics of angst :D Anani Mouse Thank you, thank you so much :D -Head swells- Frosted Fate Yeah, poor Lutta D: Wish Hoole ended up with her. One of the Populace Oh...-sobs- Hi! :D FlamingSerpent Thanks! I\"m flattered x) True, Nyra\"s so important to the plot -- being sadistic and plotting revenge, among other things :) Hawkrain I\"m glad you\"re eager :D Thanks for reviewing and liking it! :) Lara-Van Thank you, thank you -bows- X) It\"s great that you think that; cheered me right up ;) The Great Tree I can make them hurt... My Mum and Da. I can make them feel the pain that they\"ve put on me. They can hurt, and I\"d be able to do it to them. A change in our positions is want I want so badly, and they\"d taste the bile they stuck in my throat. They left me...they left me, their chick Lutta. Theirs. I have the power now -- to make them hurt. I can make them hurt. I can make them hurt... \"Lutta!\" Stop slapping me. \"Lutta, wake up!\" Slap. Stop slapping me with your wing, it stings. Slap. Slap. \"WAKE UP, Lutta.\" Slap. Slap. Stop it! I\"m trying to-- \"Lutta, please!\" ...Hoole? Hoole\"s voice! I flick my eyelids open -- all four of them -- at the same time. Hoole? No, it\"s Coryn. Just Coryn. \"Lutta, are you all right?\" The way he looks at me...it\"s like Hoole. So much like Hoole. \"I\"m fine,\" I answer, and immediately scan my surroundings. Perhaps I have become overly paranoid with time, but I can\"t be sure. In any case, I can\"t let my guard down in this case; I could find myself dead in a second, just like that I died in an instant -- killed by Strix Strumajen. I shudder, remembering the memory of being ripped. Ripping, ripping, tearing, blood, pain-- Death. And then... Well, I don\"t want to think about what I don\"t remember. After that, there was nothing but a cluster of memories of what happened within death-- Falling. Falling... Floating...unraveling...flowing through the winds...becoming one with nature...then falling.... Falling, falling downwards, a curse uttered upon my kind: \"To hagsmire.\" Hagsmire, where the ones who have sinned within their lives went, for eternal damnation. Hagsmire, for hagsfiends, and...and... Nothings. Nothings -- they who mean nothing to the world, who should never have entered this life, this realm of breathing. Falling, agony, curses, darkness, cold hate. Those flaws of what life and death decide. And nothings. Nothings, like me. Nothing. Snap out of it. I don\"t want to remember. Of being one of the damned. And now I\"m back. Why? \"Lutta?\" -- and I look up. Hoole -- no, Coryn. Coryn, the Barn Owl. Unconsciously, I stare at him with huge eyes that deserve to pop out of their sockets. \"Yes?\" I say. Oh Coryn, please don\"t look at me like that. You look like Hoole, please, don\"t look sympathic...please don\"t...I want it but you don\"t have to give it. Can you not see that my heart has already been broken? \"Lutta,\" he says, softly, and gives me a tender nudge with his wing. \"Can you stand?\" I nod, because I cannot find myself shaking my head. \"Yes.\" Can my legs work? He steps back slightly, to give me room, and I try to remember how to use legs again. Now, I just...position them...and push upwards... A searing pain. My legs! They hurt! They hurt! Fall down again -- No, I can\"t. I can\"t fall; I\"ve told Coryn that I will stand, will be able, and I will not lie; not anymore; I have already lied and tricked Hoole, I will not do so again, not to any owl. Nor this owl. This owl, who stares with the eyes of a true king. A young king, but a wise one, and a good one. With difficulty, I stagger forward, out of the small nest. I feel the bark underneath my claws as I step on it; bark again, how it brings back thoughts of those days. It feels a bit unfamiliar, but I cannot forget bark. Such a thing is pathetic. I feel my legs quivering, wanting to give way, but no. No. I have said that I will stand. How they quiver! -- stop it. Stop quivering! I have said I will walk, and I will walk, even if this pain continues -- like fire searing at me, numbing in a way. I will not lie again. Deception has torn me once before; never again. I look at Coryn, see the concern in his eyes; he hesitates to step forward, wanting to help. No, I can do it. Please. Let me. I walk, a little faster, wanting my legs to stride. They work, a little better. I look at Coryn again, and I ask, \"Where am I?\" \"The Great Ga\"Hoole Tree.\" Silence. My breathe hitches quickly. \"The...\" I pause, mind spinning and reeling. The Tree? The Great Ga\"Hoole Tree, that was reigned over by...Hoole? \"Tree?\" The Tree. The Great Ga\"Hoole Tree. And my mind explodes. \"Th -- Then!\" I jump as I begin stuttering. \"The Ga\"Hoole Tree! I -- I don\"t belong here! I am nothing! I lo-- \"Hoole, he...NO! I am a disgrace! My presence is dirtying this tree!\" I back away, seeking some sort of exit. I don\"t belong here. No. I am defiling the Tree. How long has it been since the last time I was here? I deceived the good king, I nearly killed him -- he was a great king, and a great owl! I don\"t deserve to be here! How many good owls reside in this tree now, the Tree that was grown by -- as rumor says -- the sorrow and goodness of Hoole? I don\"t belong here! Coryn jumps now. Please, no! \"Lutta!\" he says, eyes flashing with some sort of fire that started. \"You are not!\" Not? But...Hoole! Hoole! -- please no! You--! I stare, transfixed, as I see Coryn change. I don\"t see Coryn anymore. I see...you. Hoole. Eyes, eyes that spoke of what you believed in. Your sense of love for those close to you, your fiery will that would see indiscrimation to the very end. I\"m sorry Hoole! I deceived you! I am everything you are not! -- and should not be! I am NOTHING! I back away, seeing Hoole. He steps forward, that look in his eyes-- \"You deserve to be here! You--\" I stumble backwards as I shriek, \"Hoole! Don\"t! Don\"t you understand!\" Now is my time to confess! I never told him that I was-- I\"m sorry Hoole. I\"m so sorry! \"Lutta!\" The owl before me is -- He\"s pleading! No, I don\"t deserve it! \"Lutta, you do! Just as any owl!\" My gizzard throbs, beating against its surroundings. I stare upwards, feeling it grow cold. \"NO! I DON\"T DESERVE TO BE HERE! I AM NOTHING! I -- DO -- NOT -- BELONG -- HERE! I AM...\" My gizzard gives a jerk. My throat fills with pebbles; \"Nothing....\" My words are choked. It\"s true. I am nothing. I don\"t deserve to be here, at the Great Tree. PT: Like? Hate? Please review. I hope to update soon. Fill up the plot holes, twist the story...you know. Nothing, Yet A Love Never Dying PT: I really need to update more often. xD -Shot- ...-looks out window- Well, I thought I\"d take some advantage. Now that I\"m in high school, and in the JROTC program, I\"ve joined the drill team that saps up all the members\" time. But as of this month practice has been cancelled until further notice. Now I have the energy and time for writing, so yeah -shrugs- FlamingSerpent I know, right? So sad...last book...oh the nostalgia.... PokemonKnight Yes, isn\"t that talent just so impressive? x) -shot- Thank you. silverrosetail Thank you, and thanks for the further information ^^ Hopefully, once this is pointed out, things will definitely unfold a little more. SamPD Mmhm...since I\"ve already replied to you... Crazydragonlord Thank you~! n_n I appreciate that. Move Again, Step By Step Nyra glanced down at the small bit of parchment in her right claw, squinting slightly to make out the ancient words. The Kraakish scrawled upon it was old, but young enough for her to translate. The general of the Pure Ones had to stop the glee that was bubbling upwards in her gizzard -- no, not yet, when this isn\"t confirmed to work -- but she allowed herself to flush slightly with success. For the sake of her sanity and her own feelings of encouragement. Success was near... Nearing... ...Bit -- by -- bit. \"Yes.\" A glint came to concentrated eyes. \"This is it.\" I look up. Consciousness is drifting back with a comforting steadiness. It comes kindly, but firmly. But I let it come. Hell. My body aches -- all of it, it aches and hurts and pinches itself. It\"s a twisted rag -- I\"m a twisted rag. Hoole. Coryn. Oh... I shouldn\"t be here. The thought is fire, or else ice. I shouldn\"t be here. I don\"t deserve to be here. My thoughts are taking flight from where they have left off. I don\"t deserve to be here. Of course I don\"t. I look around as my vision clears; he is not here...Coryn, was it? No one is here. My phantom gizzard -- phantom, yes... -- speaks...it sends a jolt of alarm. Warning. They have left me. They must have. Kind as they seemed to be, they must have left me here...in this hollow...perhaps wanting me to leave on my own, too disgusted to act. A saddening thought. They acknowledged me, though, and they were kind. Perhaps they saw through to something... But that\"s reality, is it not? -- of course, freak that I am; player of the confidant game that I am...an actor, nothing more. There is no real me. My grief has quieted. I should leave then -- it cracks my phantom gizzard in half -- this is the tree; and I am nothing. I shall leave then...go somewhere else to rot, quietly, for the peace. This tree has something...something...that revives Hoole\"s life. I wonder, then...if he is looking down here. I wonder what he is thinking. At least he is at peace. There is no me to disturb him, and I shall bother him no more in this tree. Hoole. I am sorry. I don\"t deserve any of your love. And I will not bother Coryn. He reminds me so much of you. I turn to face the opening of the hollow, veiled by lichen. Pretty. How alive. There is air outside; nighttime seeps through the fleshy fibers. Cool air, and a wide expanse. Shall I fly till the end of my miserable days? I shift; I can move. Then I can leave. There is no reason to stay here, of course...this is Hoole\"s home; I shall not taint it. Oh, it\"s silent -- I can\"t believe it took so long for me to notice it; my feathers are rustling -- I must look ugly -- and my feet shift. I can move. This is life. I am alive. Truly, truly alive. I cannot tell what exact state I am in, but I know I must be a mess. But outside I can release, can I not? Release, and perhaps become one with nature, earth or sky. There is a whole world out there, limitless. I can wander till the end of my days, past even the confinements of the land we owls know. Beyond the beyond the beyond. I fear no danger; in fact, the danger can come, and I shall not care if it kills me. I am an owl -- whatever I am -- with nothing to lose and nothing to gain. Then I am ready. I listen one more time, pause, before beginning the endless journey. Nothing. There is nothing but the hum of silence, scratching in cadence. I must be desperate to stay, as if I truly deserve it. I don\"t. I cannot stop thinking about this; I deserve nothing. I am nothing, after all. If I am damned to this line of reality for this whole retake at life, then so be it. Then, I will take my leave. Good riddance, then. My eyes mist. When I shake my head to clear the fog, I hop forward -- painful -- and I manage to walk. I can do this. There is the opening; I will go now. I must be cherishing the whisper of lush wind. I will go. I will go. With a shake of my ruffled feathers, I jump out, brush through the lichen that caresses my wings in farewell -- with pity? -- and snap my wings open. A prickling sensation. With a quick look downwards, as the world rushes in, I see the silver-gray plumage restored to my chest. A shapeshifter again. Coryn watched the candle before him splutter wetly, in its final throes of death. Though fire was life, it needed something to last. Something that helped it, hurled it onward. Without, it would die, die and scream. Then it would fall silent and blow out of existence. And that would be that. Died, and was dead. But undoubtedly, irrevocably, dead. How, then...how? -- how did a dead owl, undoubtedly gone for years upon years upon years...how could a dead owl rise, fresh and breathing, from the dead? This was illogical, and beyond the illogical itself. Of course there could be attempts to raise the dead, but...the body. And the sheer closeness to impossibility. Lutta, the owl of legend, was alive after being dead for so long. How...? Her body must have withered and become nothing but food for the earth to devour greedily. Though the beyond of the horizon of the logical was boundless, this was still... How, he mused. How. That was what he was pursuing. How? How? How? How had she returned to the earth? Was she an illusion? -- if so, she was something beyond illusion...she was too perfect to be something to be called a mere illusion. Coryn mused onward as he turned back to the sheafs of paper -- he had left Lutta for the pursuit of something...something that could shed its light upon the happenings. So long ago. Lutta. Was this a work of nachtmagen? There was that possibility, faded as the yellow craft was. Then who had performed it? Coryn could not grab it; he snatched at empty air. There was nothing to tell him. Nothing that anything could tell him, nor aid him. This was an enigma beyond most anagrams of matters. This was a mess. He had found her, Lutta, merely lying on some branch of the tree. And, through some urging of the gizzard, he had brought her back into the tree itself. This made little sense. He dived into another pool of thoughts. What if...? There was a bang; he jumped and turned. There was a curse of \"raccdrops!\" Twilight. Coryn called, one wing still laid flat over a book, \"What\"s going on?\" More cursing, followed by Gylfie\"s reprimands. There was a loud whirlwind of a flutter, and soon the whole Band was within the room! \"What?\" Coryn said loudly at the undignified relative of a heap before him. \"What\"s happened?\" Something shot through his gizzard. Soren spoke first, in a rushed but determined voice. \"She\"s gone!\" Another shot. Something like cold fear and wonder. \"She\"s gone!\" Gylfie wailed. \"Lutta\"s gone!\"',\n",
              " '\"All will become one with Russia,\" he said, almost simply, his cheer eerie. Fists were already clenched; now they groped about, for a pan, a rifle, a sword-there was nothing. In some way, this brought her but a sigh of relief-Gilbert and Roderich, she was reminded, were not here to suffer as well. If Ivan put his giant hands on Roderich... Click, went an object, and Elizaveta was snapped into the world when her own instincts pulled her head away; on time, for Ivan\"s collar was soon found to be touching the tip of her nose: she went cross-eyed staring at the thing: it pinched her skin, now red with anger. How dare you- Oppression! No one could lay that yoke above her again!-she would never allow it! Even when a sort of purple shroud seemed to wrap itself about Ivan and blaze as a fire would...even as a faint eerie \"kolkolkol\" was thick in the air...Elizaveta held her ground-glaring, hating, repulsing. Oppression. No more oppression...! His eyes dropped; his hand followed: with a bolt of alarm-lechery?-feint?-Elizaveta took one step back, bristling as the wolf does. Watching the muscles of the Russian arms twitch, she ducked when he snatched at where her waist would have been had she remained still; with a quick flush of indignation, she glared upward; if only Ludwig had not been forced out! He had retreated with such haste, back to Berlin, offering to bring her with him, though knowing that she would not leave-Hungary was her, and her place. So he had left, alone and resigned to the fact that even Veneziano had to leave him, taken by the Allies. Elizaveta had watched him go with as much resignation. Endsieg, the Germans called it. Ivan was huge, behemoth above an ant...no, not an ant, but perhaps a lotus...perhaps a hybrid of that with a rose. There is no rose without thorns, after all. The Soviets had already been merciless, ruthless as the next army: the ache of rape and massacre fluttered about the land. If anything, the nation itself would fight. Useless as it was. Ivan dropped the collar. Still galvanizing with mental shocks down the spine, she watched closely. Too closely. Ivan\"s hand dove downwards and snatched. With a horrified she jumped back, giving a swift right hook to his neck, the closest she could reach. -And in the end, it almost didn\"t matter. Ivan smiled triumphantly as a long-forgotten weight was shifted from her belt. With a savage look from one of him and Elizaveta, the paper was in between his fingers...Elizaveta looked, stunned-in the moment it felt as if the appendix had been removed from her body. As useless yet familiar thing was there, the memory of its origins...filled with not blood, but gore-milk skin against the universe of deadness. The paper was scrolled about the Russian\"s fingers; somehow, it completed the image-a bloody Soviet, grinning wickedly as the royal purple billowed from his eyes: to top it all off, a dirty cream paper twisted about his raised digits. It was almost gray. She had long since forgotten about the thing; the small text, written in Gilbert\"s-a frantic parry-handwriting; out fell a finger, and it was the one from the bombed wreck. Just its weight-it had been there all along, useless, a little keepsake of Berlin; what she had seen there. What she had left behind for her own Hungarian version. It was white still, yet shriveled, and dry-that was all; it had changed, though not enough. \"German,\" Ivan said, warmly-no, coldly...swelteringly icy, and that was oxymoronic, but oxymoronic was practically the composure of him...him, all him. \"This is a finger from Germany, da?\" \"How do you...\" She sucked in a breath; refused to let her eyes widen. The grin widened; \"Just a lucky guess.\" He giggled, sickeningly, violet mist shrouding the remains of his person; his teeth were a white and perfect-they flashed in the buttercup sun, which laid its yellow upon the stiff white ground, touched with chill. Elizaveta stood stock-still then: she did the whole time; something had been torn away, and it lay resting among Ivan\"s grubby fingers, clad in leather-worn leather gloves that anyone would wear these days...she rubbed at her own, slightly shredded, at the still-clothed fingertips. Hands-they were worn down: hers and Ivan\"s. Beaten flesh. Looking up again, relief flashed briefly, the white light stark against her crimson crumbling heart, or else the mind-one was meaningful as the other; with that thought, of Roderich, Gilbert, Ludwig, Veneziano, and the war as a human, Ares... Endsieg. There was nothing to lose, but more lives. Eyeing the Russians, who had swept her land into scorched blood, she charged. There was nothing more to lose, and she kept on telling herself that. Even as the Soviets rushed over, rustling the paper with the breeze stirred by their boots; even as she lay ready to die, ready to live, tired as a nation at the end of his time. There was plenty of dust, and plenty of blood, and her body ached. It fit-it all fit. The yoke had been laid over her shoulders-the niggling thought that it was cracked brought no satisfaction: the Soviets still had claim laid over the land fought so hard for: Everything I\"ve done, she thought, as a cough formed within her throat, was for my people. Her thoughts flickered, at Roderich, at Gilbert-if she could not fight, she could marry, or give herself over; but she could fight, she merely needed the mentality rather than the plentiful physique: that was why she was in...this. \"Fuck,\" she breathed, eyes shut against the world. The last soldier soon disappeared through the limits of sound; peace and dust remained-not one stray man was left, no one else to strap the lead to her bones. Limbs aching, heart aching, mind aching, she lay there among the debris- No wonder, then, said the idle mind; she could have scowled, but it would have hurt too much-coughing did not help: if it stayed, it hurt the throat; if it was released, it cut the throat; the effort of checking it racked the whole body, and there was none of it anyway. Head lolling back, Elizaveta felt the paper, the finger, lying dead on the ground: Russia had dropped it, mockingly, to replace the grave flowers. There were no flowers, aside from those withered things in her hair. They were papery. Still, being near dead...the well of strength was dry. There was but moisture left in the moss growing upon the clammy stone-up the frozen cylinder it traveled, and so she flinched when the hand came. It was cold. Cold-and yet, hot as ice-white and freezing; the touch was familiar. It was light as a feather. The feather was upon the shoulder; it pressed, though not harshly; still, it could not be described as gentle. The hand was frail as her strength-brittle and cold and old. She refused to open her eyes then. She had decided, some time ago, that she liked the dark. She preferred it; it was friendly, and it allowed ignorance to be an excuse. It was kind, and she wished it could be a closer friend. But white-why white... \"Hey,\" said something, someone, something, someone. The ax scraped against the stone; it rasped with a familiar tinge of the past months, which were long as eternity, significant as the rest of time\"s children. It was a beautifully ugly voice, salty, bloody, white as fire. In the next moment there was nothing but one thing-it could not be. The pressure increased, it was beginning to hurt. Not able to growl, Elizaveta shifted with painful instinct-another cough ripped through her chest. \"Hey,\" said something again, and she summoned what was left of the moisture in the moss to flick her eyes open-it hurt: her eyes stung in white with water, but she knew it would come to pass. Everything comes to pass. Everything-absolutely everything: she had to keep on telling herself that, for though it passed, it took its very sweet time doing so; so that she could almost taste the bitter sparks on her tongue; it was parched, and thus drier. Spice. \"Fuck you,\" she whistled through her throat. It stung. It could not be. The pressure increased, not unexpectedly; it squeezed upon her shoulder, and it took a large muster of strength to finally blink the fluids away from the eyes, so that they were a clear green again-the first sight was white, as it always was-the second blink brought the sight of red, and some part of her-somewhere, deep down or hidden-despaired: agony nudged at her again, and she knew that those papers would not have been so kind as to let her go: no, she had to confront; it was a gift of something...that would not irk her for the rest of eternity, and yet a curse of more pain. The choice of selfishness or selflessness, when both loosed their boundaries and came together. And that hurt. More than anything, that hurt-the scorch of disappointment; denial, anxiety, fear-there was too much of it. And yet, she did not want him dead. It had taken her time, so much time to realize that...but she did not wish death upon anyone, having seen too much of it as the clock ticked away-she had never wanted anyone to truly die. Gilbert Beilschmidt, though she hated him above all, was no exception. But in times such as now, when war tore the world apart-when history decided to twist itself about-when the nations crumbled-how could death not be a blessing?-at this point she could almost want them all to be dead. Roderich, Gilbert, Veneziano, Ludwig...and yet she would watch with relief on the day that each of them would pick themselves up, and charge into the distance with life. She hated war. She blinked rapidly, staring, always watching; though she ached, she let the next batter of coughing come to pass-shock, it overcame her then. Charging upward, body screaming in protest, she could only slap him with strength that came by habit, before wrapping both arms around him, wondering how and why in hell- \"Get off me, woman!\" he protested, attempting to flail; she saw now that the tin had been stripped away, or at least most of it, as she felt him, flesh and cloth and hair-from the unhealthy pallor of his skin, from the dried hard uniform, to the pinked and browned hair, silver still shining boldly beneath the blood. He was unusually warm-hot even-when she felt him; clearly the cold had been warded off, though his hands still felt like ice; remembering the documents found in Ludwig\"s office, she realized that it was fever. But his head-feeling about the neck, she knew it was there-desperately feeling, just to know how cruel death was, she felt it, finding no seam-with a thin cry of joy and pain she kissed it, squeezing him till he was strangled- \"You\"re alive,\" she breathed, even as garbled speech flew from his lips. She was going into spasms-this was too unreal! And yet it was. He was so, so solid. His eyes were ruby. No petty pink glaze upon the Kingdom of Prussia\"s gaze-no death frosting them over. Clinging to him, something told her that she would never let go-a stupid little piece of wishful thought, no doubt: never let go, how ridiculous; and yet she did not release him, as he calmed between her limbs, resigning with guilty pleasure, rigid with denial. She could not even loosen about him-there was nothing but the jail scene playing and replaying itself in her mind-letting their hands drop, parting, and then the sickening sound of the guillotine\"s strike. Water, red, pink, silver, white, black. The swastika rose over all, as if to mock... \"Where in Isten\"s name have you been?\" she muttered against his shoulder, before lifting her head away hastily; still, though, she did not let go; she wanted to savor it. As the vampire feasts on blood. The scent of metal clung to him. \"Get off,\" was the obstinate reply; she lifted her hand and slapped him again, not knowing what else to do. \"Ow!\" \"Where\"ve you been?\" she said again. \"You were supposed to be dead-\" \"Well, I\"m so freaking not-\" \"I saw your head!\" she said, voice reaching a higher octave. \"It was a fake!\" \"Impossible,\" she declared, eyes widening before she finished; it came to her, suddenly-the way it had fallen, the sudden hush of death, the blindfold of stars, the blood-she had seen it, touched it, waded in the water it buried itself in.... She had suffered with him at death. \"You were dead...,\" she whispered; it gave way to coughing, and he only watched as she did; held onto her and she held onto him. \"I heard the thud. If you were dead-\" He grunted. When she looked up, his eyes were a bitter red. \"The head was fake. They...held me down.\" Scowling, he looked away; admittance was ignominy. \"They held me down up there. There were lots of them, Hungary-scheiße, there was a lot of back-up that we didn\"t notice; I couldn\"t beat off all of them. And my gun ran out...\" His voice faded; still, his scowl deepened, and he finished to his own satisfaction. \"Their leader was fun to kill though.\" He laughed, cruelly, forcefully-he found no love for death, though he had seen enough of it to mind less. Elizaveta decided against shaking her head-it could only be true; she had known him for years, since they were incomplete nations, just children running about with swords of both wood and steel. Just as he had sifted out her identity from that of Elisabeth Wertheim\"s, it was with ease that she found that this man in front of her was real: as nations in human form, they were allowed the same detached senses as those immortal. Stupid, she scolded herself, knowing not to trust so easily; but it was what it was. She noticed the shards of tin still upon his flesh then-of course, he could not have been thrown out so easily-time was needed, so much time; some things did not change, but could. They trapped him. Shackled his person. Still not releasing-he was too real, too solid, to let go-she let the glimpses of his uniform and body form in her mind; she looked about, saw the blood, the bruises, the sickly pallor of his skin. Dread formed with it, in a way almost instinctive, be it Gilbert or not: \"What did they do to you.\" It was not a question-it was an exclamation, asking, wondering, but not questioning. The papers came to mind again. A pause-it was too long, in Elizaveta\"s mind. With a ferociousness that came at will, that sapped her meager strength as well as supplied it, she asked, this time, demanded, \"What did they do to you?\" He was biting his lips, not speaking; still, obstinately, she took him by the shoulders again, harder, saying, \"What did they do to you?\" The papers came to mind again...how Ludwig had admitted it, how Gilbert had been so emotionless for the past year.... A protectiveness that she had never felt before, for but Roderich and Veneziano, but never this man, emerged; it reared its head menacingly-some maternal side of her glared outwards, and she shook him. \"Tell me!\" He only bit his lips harder. \"Tell me, God damn it,\" she said. \"I found documents in Ludwig\"s office. Is it true...\" he looked at her \"...that, throughout the war....\" \"Ja,\" he said, finally; his tone shook at the slightest, but was steely at the same time. His eyes grew hard. Elizaveta had never seen him like this, before the war-so close to tiredness, so close to a sort of trauma; he spread trauma, he did not suffer from it. She had known him for so long, and yet finally.... Not noticing how hard she was holding onto him, as if to crush him, she leaned in with complete urgency, green pools of eyes reflecting the cracked image of Gilbert Beilschmidt. \"Russia...hurt my people. So much.\" He snorted softly, in disgust. \"And der Führer\"-derision-\"doesn\"t like me a lot.\" The line along his brows became harsh, harsher than they needed to be. \"My people aren\"t West\"s. They\"re different. And they don\"t like der fucking Führer. \"West didn\"t know; he only knew later, but they told him I was dead. He was pissed and everything; he lost my awesomeness after all.\" The grin curled along his chapped lips. There was no humor in it. \"I\"m just a small state now; I\"m the most freaking awesome state that existed, but I\"m still just a state. \"They experimented on me,\" he continued; Elizaveta could see the anger etched along his face, and she felt it too; she had suffered, though not as much, by the way it sounded-her Jews were still her people, no matter what the Germans said. She could never understand why others could do this to people.... \"Russia\"s people and West\"s people. They raped the women and killed the children.\" A shudder passed through him, in painful memory; again, Elizaveta noted his love as a nation for his people; Prussian, Crusader, Knight he may be, he still had people. \"Well, mostly Russia\"s. West\"s did too, but mostly they just did those experiments and sent them off to work.\" Another sour laugh. \"Hitler thought I wasn\"t really important later on-before that he just sat around glaring and all. I had to go to jail several times-they said I was encouraging sedition against him, and that\"s when it happened.\" \"They...\" Elizaveta spoke at last. \"Torture,\" he said, nodding coolly. \"Later Hitler started doing it outright-he thought that I wasn\"t good enough, and didn\"t deserve his shithole of a Reich. What a failure,\" he added darkly. She scowled at him, alarmed, angered, bewildered; \"Why didn\"t you tell Ludwig?\" \"And what would he have done?\" he answered cuttingly. \"Kicked him off and told the Allies and Jews that he was sorry?-West\"s a stubborn arschloch, and he loves his Führer so much.\" \"Oh Gilbert...,\" was all she could say, and she could only blink aside from that. \"Was?\" he snapped, silver locks bouncing. \"Is this why...\" \"Ja. Haven\"t you noticed that this Gott-forsaken war is tearing the world apart?\" \"I have,\" she said quietly, not protesting; his statement was horribly obvious. \"I don\"t think it\"d be easy to miss.\" Now it was her turn to smile, so she did; it was bitter as his, and the worn grinning soldiers were twins. She sucked in a breath before wheezing at the slightest; the image shattered. \"And,\" he added, though almost hastily, \"I\"ve always wanted to know\"-she looked at him, albeit with some anxiety for the topic-\"what in hell do you see in Roderich?\" She should\"ve slapped him. She should\"ve pummeled him into the ground. She should\"ve left him then and there. She should\"ve. She could\"ve. In the end she did not. She saw it coming. She knew it had to-it was bound to, heading her way; the circumstances catapulted them at her; the tension crackling in the air, like electricity powered it-I should have come sooner, but now...she had never been able to measure the distance from whence it came. Now it was laid before, and she wondered why this exchange had never occurred between them-they were too busy fighting. Hating each other. And she still hated him, but they had enough now, to ceasefire for the moment. Enough of what, she could not say. Roderich. How could she tell him...as she stared wistfully at Gilbert\"s crimson eyes, some part of her wished that she had never met him, nor Roderich-if only one should be nothing to her, she would be happy; he would be happy-no tumbling love, no turmoil with the blood split between them. If she had only grown up to be a boy after all; if only it would be when she was still the wild girl on the plains (not that she would ever miss Mongolia, Turkey, or having to carry a bow and arrows out with her from so young an age...), beating Roderich-Austria-back till he could not even move; even before Gilbert began to defend her land. But no. In the end she had met someone so kind, someone who had given her love in a hate-filled life; someone who gave her a second glance, and more, not in hostility or for the sake of land-he was fortunate Austria, who valued peace. Perfection did not exist-but to Elizaveta, he was the closest to achieving it; never had anyone been so positively unreal. She loved him. She could trust him. Gilbert had been hell-sent. He had made fun of all the trials of her life-hurt Roderich...was a barbarian who cared for none for himself; there was nothing but power, and all who even stumbled in his path were gleefully slaughtered. Studying his face now, she could see the years imprinted upon his face; the stupid boy, the hateful man, dishonorable dog he was. And yet-in the end, she had been proven wrong about his care: he loved Ludwig. His people. In some way, there were binds tying them together. If not loved, then cared for; in the end, he was proven to be human, if not a ruthless one. In the end, however...they were both merely tired nations, one about to drop dead; it was painful to think of. Had she fallen in love with this man? This man...who was merely one step away from even raping Roderich-she had thought it so when he came back speaking of lost Silesia, though she had been quick in recalling the pious side of her Prussian foe-could she have fallen in love? It was not impossible to love two-and it was only now that she thought it, thought hard. Unthinkable! she snapped. She proved herself wrong when she put their mouths together. \"Roderich is better than you,\" she hissed through their teeth; his lips were cold, pale, chapped; chapped and cold as hers. He was complying coolly, almost thoughtfully. \"You may have claimed my vital regions first\"-they smirked in unison-\"but my heart is still Austrian territory.\" She then muttered against his tongue all that she thought, of him, of Roderich-of Roderich\"s kindness and heaven-sent presence, of Gilbert\"s disgusting being. They were all true, they both knew; but hate and love were married in a balanced union: thus she hated him, and did not all at once.')"
            ]
          },
          "execution_count": 17,
          "metadata": {},
          "output_type": "execute_result"
        }
      ],
      "source": [
        "v[0]"
      ]
    },
    {
      "cell_type": "code",
      "execution_count": null,
      "metadata": {
        "id": "F5Ve9ZppQTW1"
      },
      "outputs": [],
      "source": [
        "from sklearn.model_selection import train_test_split\n",
        "\n",
        "train_x, valid_x, train_y, valid_y = train_test_split(v, labels, test_size=0.2, random_state=800, shuffle=True)"
      ]
    },
    {
      "cell_type": "code",
      "execution_count": null,
      "metadata": {
        "id": "No_CtzRVQsMR"
      },
      "outputs": [],
      "source": [
        "train_x1, train_x2 = zip(*train_x)"
      ]
    },
    {
      "cell_type": "code",
      "execution_count": null,
      "metadata": {
        "id": "EIDy4rRrQ2N6"
      },
      "outputs": [],
      "source": [
        "valid_x1, valid_x2 = zip(*valid_x)"
      ]
    },
    {
      "cell_type": "code",
      "execution_count": null,
      "metadata": {
        "colab": {
          "base_uri": "https://localhost:8080/",
          "height": 504
        },
        "id": "ydKV2fUsRKn5",
        "outputId": "e51e9115-4475-479a-d067-4506cfc2d419"
      },
      "outputs": [
        {
          "data": {
            "application/vnd.google.colaboratory.intrinsic+json": {
              "type": "string"
            },
            "text/plain": [
              "'\"I\"m Adrien,\" he says. \"Oh I know.\" With that she pulls the gear into drive and turns out of the yard. Adrien stretches his neck to see his father and Gorilla one last time. But only Gorilla stands there, and his father slams the door behind him as he walks into the house. Tears well at Adrien\"s eyes, but he wipes them away quickly as he watches his home leave his life forever. Hey readers! Thank you for clicking on the story and reading it! Just a couple things to tell you about my story - The character POV switches throughout the story, but is based off of Marinette and Adrien. - I will be using season one and two references from the show for some of the chapters, but not everything will be the same. I thought it\"d be appropriate to make Adrien a lover of stories and books since his video games and anime are unavailable to him. I hope you guys enjoy this AU! A/N : I do not own Miraculous Ladybug Marinette\"s pencil lead breaks as she accidently presses it to roughly into the paper. She sighs, flicking the loose piece of graphite off the desk. Her best friend, Alya, smiles snarkily at her situation. With a tight lipped smile, Marinette slides out from the desk and walks over to the sharpener by the classroom window. The class is quiet, students leaning over their assignments. Every sound feels too loud compared to the suttle etches of pencils on paper and sniffles of noses. Although, few students talk to each other in hushed and whispered tones. Sometimes a laugh will escape, disrupting the class into a wave of nose. At the sharpener, Marinette only hears one conversation. It\"s between Chloe, the major of Paris\" daughter, and her best friend, Sabrina. \"- and he\"s coming from a farm? So... like, he\"s a hillbilly?\" Sabrina asks, her high pitched voice failing at being quiet. Sabrina\"s nice, sometimes, well... when she isn\"t around Chloe. Chloe is naturally a rude person. The typical blonde rich girl, who gets everything she wants from her dad. Although, she is nice to Marinette, but only because of Marinette\"s parents\" reputation. Marinette\"s parents have to be the most famous bakers in Paris, well known for their perfectly delicious macaroons. The Major is close with Marinette\"s parents, which is also the cause of a long lasting \"friendship\" between her and Chloe. Marinette doesn\"t want to be mean to Chloe, but sometimes she can make it hard to be someone to stick up for. \"TOTAL hillbilly,\" Chloe says, her voice baring to much ego to even come close to quiet. Marinette finishes sharpening her pencil to a point, before she walks up to Chloe and Sabrina. They both turn toward her as she nears, and Sabrina tucks a strand of red hair behind her ear that had fallen into her face. \"Hey Marinette!\" Chloe says, partially sitting up in her desk to give Marinette a hug. Marinette smiles uncomfortable and wiggles from Chloe\"s embrace. The whole classes attention was diverted to them. Yet the teacher, Mrs. Bustier, is gone from the classroom. \"I just wanted to know what you guys are talking about. Or... who, I guess,\" she asks. Chloe laughs, a cackle and pitchy sound that hurts the ears. Her ponytail doesn\"t even swing from her shaking her head it contains so much hairspray. \"Didn\"t you know? We have a new student in our class tomorrow!\" Chloe says. This time, the whole class is sitting on the edge of their seats. \"New student?\" \"Who is it?\" \"Guy or girl?\" \"Where are they coming from?\" Chloe just smirks, then laughs, and smirks again. \"Daddy says he\"s coming from a farm. Can you believe it? A FARM! His mother is an actress, of course no one really knows what she\"s an actress in. My bet, is the hick won\"t last a day in school,\" she explains. Marinette raises an eyebrow, crossing her arms. \"Why?\" Marinette asks. The room suddenly feels hot. \"Isn\"t it obvious? Small town school. They\"re loose cannons! You\"ve seen the movies right?\" Marinette nearly scoffs, but she stops herself and instead sighs at Chloe\"s ignorance. \"Chloe the movies don\"t prove anything,\" she says. \"She\"s right though, the school\"s going to be too hard for him!\" \"Yah, she\"s right.\" \"Poor guy is going to get trampled!\" According to the class, they disagree. Suddenly, someone clears their throat. The whole class turns, eyes wide as they take in the tall figure of their teacher, red hair tucked into a high bun. Her eyes immediately land on Marinette. Marinette scurries over to her desk, head bowed. \"Sorry,\" she murmurs, sliding in next to Alya. \"Class, get back to work,\" Mrs. Bustier orders, and like that, the uncomfortable quiet returns. Even still, she feels Alya nudge her arm. \"New student huh?\" Alya says, much better at talking quietly then Chloe and Sabrina. Marinette smiles, already she can feel more comfortable around Alya. Her and Alya became friends at the beginning of the year, and now they were inseparable. \"Guess so,\" she whispers back. Alya leans more toward Marinette, eyes glancing at Mrs. Bustier at her desk to see if she will notice. \"I feel bad for him already, Chloe\"s going to ruin him, not the school,\" Alya says. Marinette nods at that. The glasses on Alya\"s nose slip slightly, and she pinches them back up with her finger. Marinette turns back to her work, but her mind wanders from the questions inked on the paper. She comes to be like this a lot whenever there\"s a new student. Excited, impatient, curious. Tomorrow couldn\"t come fast enough. Is he going to be a new friend to her? Or is he going to be rude and quiet? Will he even like her? She releases a long breath, tugging one of her short pigtails tighter. The bell rings out suddenly, and the class begins to move and talk, putting their supplies into their bags. \"Okay class! That assignment is due first thing tomorrow!\" Mrs. Bustier informs. Marinette frowns and she looks down at her uncompleted paper. \"Did you finish?\" she asks, turning to Alya who flicks her long auburn hair over her shoulder as she leans over her bag, stuffing her paper in a file. Alya straightens, swinging the bag over her shoulder. \"Yah, right at the bell. Did you?\" she asks. Marinette shakes her head. \"No, I became... a little distracted half way through,\" Marinette explains. Alya smiles and laughs lightly. \"Of course you were Mari,\" she says. Marinette rolls her eyes with a smile and she walks out from their desk. Both of them exit the classroom together. As they walk, they weave around the scattered students easily. The hum of voices is loud, carrying the occasional laugh. Marinette can\"t help but try to imagine what it\"d be like to be new to this. Or is it no different in the school he\"s coming from? Quickly she decides that it would be quite frightening. They leave the school, walking outside in the bright sun, the breeze cooling them before it can make them too hot. Pigeons coo from their perch on top of buildings, almost like a background noise to the hum of conversations of students leaving the school around them. Marinette squints against the sun as she walks down the steps, her shoes clacking on the stone. \"I\"ll see you tomorrow? Oh and call me if you need help with the homework,\" Alya says, patting Marinette\"s shoulder with a smile. \"I will, see you tomorrow,\" Marinette replies. They turn seperate directions down the road and walk away. Marinette tries to walk quickly, her small bag swinging at her side. Already she jots out her chores that need to be done in the bakery in her head. Mix the batter for three dozen macarons, there should be a couple trays of cookies that need to be taken out of the oven, knead the dough of the croissants and pass them over to her father, and when everything\"s done, scrub the oven clean. She was supposed to clean the oven yesterday. All her jobs are quite small. Her parents have yet to trust her to bake something completely on her own yet, so they give her pieces of them. The bakery is a larger building, tall too because on their home in the top levels. Marinette enters through the shop doors, immersing herself in the smell of sugary icing, flour, and soft batter. Customers hover in front of the glass containers with their heads inclined at the baking. There\"s a line up at the counter at the back of the shop, and her mother stands there smiling, greeting and typing in the numbers into the cash register speedily. Marinette walks toward her, and the kitchen door behind the counter. Her mother sees her and she smiles brightly at her daughter. She\"s a prettier woman, raven black short hair, thin eyebrows that sit high on her forehead in an bemused expression, a smile that coaxes one out of everyone she meets. \"Marinette!\" she says. Marinette smiles in greeting. \"Hi mom.\" \"Your father\"s waiting for your help in the kitchen,\" her mother says. Marinette nods before walking behind the counter and walking through the swinging door. The smells grow even stronger now. Her father is leaning over a cake, carefully dotting the top with icing. His burlly figure is nearly still, statued, other then the slight bob of his hands. \"Hey dad, do I start the macaron batter?\" she asks. Her father doesn\"t even look up. \"Oh hello sweety, would you please?\" he says, his voice mumbling. She walks around the many counters and ovens, gathering the ingredients she needs. \"So, today I found out that we\"re going to have a new student in our class tomorrow,\" Marinette says as she begins pouring the ingredients into a bowl. \"Really? But it\"s already a month into the school year,\" he says. \"I know that\"s what I thought too, but Chloe was telling everyone about it,\" she explains. Her father makes a huffing noise with his breath as a blob of icing doesn\"t settle that way he wants. \"Do you know anything else about it?\" \"Chloe was saying he\"s coming from a farm outside the city and his mother is an actress,\" Marinette explains. Her father looks up from the cake briefly. \"Would we know of anything she\"s in?\" he asks. Marinette shrugs her shoulders. \"I never asked for a name,\" she admits. Her father pauses for a moment longer, standing straight and looking off for a moment as he thinks. \"I think there\"s a woman living a couple houses down that\"s an actor. Maybe that\"s her,\" he says. Marinette stops in the middle of pouring an ingredient in. \"Really? Right by us?\" \"As far as I know.\" They both return to their work. The afternoon goes by. Marinette scurrying between chore and chore, her father ordering her to something else after she finishes one. Everytime Marinette isn\"t completely focused on a task, she thinks of the new student, playing around with ideas on what kind of person he could be. Eventually Marinette is leaning into the large oven, scrubbing furiously at the blackened burnt crust at the sides. She\"s forced to pull all her hair back into a ponytail as her bangs keep falling into her eyes. Her gloved hands scrub at the back corner of the oven. Behind her she can her father doing his own tasks, washing what he used for baking. Out in the shop Marinette can hear her mother cleaning up the cash register and cleaning out the shelves. Finally, after what feels like forever, Marinette wipes down the inside of the oven one last time and crawls away from its tight space. Her hands feel numb, and an ache has formed in her shoulders. Although she isn\"t done yet, she has homework. In her room, Marinette sits hunched in her pink rolly chair, the length of her desk surrounding her. Her pencil sits in her hand, pinched in between her fingers as she scribbles down her answers for the questions. One by one she completes the questions, her eyes growing tired and heavy. Her phone buzzes. Rubbing a hand over her eyes, Marinette picks her phone off the desk, holding the screen out in front of her. Immediately she see the text from Alya. ALYA - FOUND MORE INFO ABOUT NEW STUDENT! Marinette releases a breath sharply from her nose and her mouth turns up in a smile. Of course Alya would look into it. It always marvels her how Alya seems to know the inside scoop on every situation. MARINETTE - WHAT DID YOU FIND? ALYA - HIS NAMES ADRIEN AGRESTE AND HE LIVED WITH HIS FATHER ON A CATTLE FARM A COUPLE HOURS OUT OF PARIS. MARINETTE - ANYTHING ELSE? ALYA - NAW GIRL, IT\"S PRETTY VAGUE ON EVERYTHING. I JUST GOT THAT OFF THE SCHOOL WEBSITE ;) MARINETTE - OH... Marinette slumped in her chair. Tomorrow couldn\"t come quick enough. ALYA - IT HAS HIS ADDRESS THOUGH. Marinette immediately straightens. Maybe his mom could be the actress who lived nearby. MARINETTE - WELL... IS IT NEAR ONE OF US? ALYA - YOU ACTUALLY. HIS HOUSE IS LIKE A BLOCK AWAY. GIRL, MAYBE YOU CAN WALK TO SCHOOL TOGETHER! MARINETTE - I STILL DON\"T KNOW THE BOY ALYA! ALYA - HEY, YOU WERE THE ONE TAKING AN INTEREST IN HIM! MARINETTE - YOU ARE THE ONE THAT LOOKED HIM UP! DIDN\"T YOU KNOW, CURIOSITY KILLED THE CAT? ALAY - BUT, SATISFACTION BROUGHT IT BACK :) MARINETTE - AH, YOU HAVE A POINT ALYA - I\"LL SEE YOU TOMORROW? MARINETTE - YA, SEE YA Marinette sets her phone back on her desk, and she quickly finishes her homework. Alya\"s text hangs on the top of her mind. Walk to school together. Walk to school... together? Was she nuts? Marinette loved the five minute walks in the mornings by herself. It was nice to have that time to think and not have a voice in her ear. But to have someone beside her? The whole way? With her? Marinette leans back in her chair groaning. This boy better be good enough to walk to school with. But what if he doesn\"t like her? What if it\"s just an endless cycle of awkward encounters before and after school? Marinette would have to get a bike, then she would ride to school after he walked because she would be able to arrive there quicker. Yes, that would work quite well. But she didn\"t want to have to do that. Guess she will just have to find out tomorrow. Adrien can\"t stop staring at the buildings of the city approaching. Tall, beautiful, diverse, chaotic. A new world. Quietly a rock song is played through the speakers of the car, played by Nathalie at one point in the drive. According to her, it\"s a famous rocker named Jagged Stone. It\"s new to Adrien, yet he loves it already. A book sits on the seat beside him. He had just put it down when the city came into view. Wow. They enter the city, and Adrien leans close to the window, peering at the sights around him. Terrifying. No... excellerating. He hasn\"t seen his mother in forever. What will she be like now? Will she except him again as her son? Will they be closer than dad and him? Terrifying? Yes. The eiffel tower looms over the city like an invincible king. Adrien\"s seen it a few times before on his visits with his mom and on the occasional field trip their class would take. Although that only happened once, it cost too much just for the drive. \"Your mother is quite excited to see you,\" Nathalie says. It\"s one of the only things she has said to him the entire three hour drive. \"I\"m excited to see her too,\" he says. Is he? Or just the idea of what she once was? \"The school set up for you is also going to be a perfect fit,\" she says. Adrien swallows a lump of fear down his throat. He really hopes the school isn\"t the downfall of all of this. \"I have a question for you Nathalie. What are you exactly, to my mom?\" It isn\"t until after he asks the question that he realizes it may come across as rude. Nathalie laughs. Coming from her it sounds unnatural and strange. \"Assistant, agent, friend. You will be seeing a lot of me,\" she says. \"Oh,\" Adrien says. Suddenly the car slows, and Adrien tenses in his seat. They pull up to a smaller building with white paneling and blue rimmed windows and door. In one of the larger windows near the door he can see someone pulling aside a curtain to look outside. He can only see their silhouette, but he can tell straight away by the pony tail and slim jaw that it\"s his mother. \"Welcome home,\" Nathalie says from the driver seat. But no, this doesn\"t feel like home so far to Adrien. He thinks of the farm when he hears the word, but not his father. The farm. As soon as Nathalie clicks the gear of the car into park, Adrien unclicks his seatbelt and crawls out of the car door. A breeze hits him immediately, along with the smell of pavement and the distant smell of baking. Adrien pulls his suitcase out from the back seat then he shoves the door of the car to close it, and it shuts with a slam. Adrien notices too late that Nathalie is staring straight at him, half out of the car with wide eyes. \"Sorry, I didn\"t mean to slam it so hard,\" he says with a blush. Adrien is still far to used to the poor quality of his father\"s old truck. \"Just not so... slammy next time,\" she says. Adrien nods. They begin to walk toward the front door, and Adrien carries his suitcase in one hand. His heart beats loudly against his chest in nerves, and the skin on his palms begin to grow sweaty. Just a few more steps to the door. Now only a couple. One more. The door opens without neither Nathalie or Adrien touching it, and on the other side greets a woman. She\"s exactly how he remembers her, a long and narrow face, blonde hair pulled back into a ponytail, and bright green eyes. His mother was always quiet beautiful. \"Adrien,\" she greets, her lips pulling tight into an easy smile. He smiles back as a feeling of warmth spreads through his chest. \"Hi mom,\" he replies. Without hesitation he empraces her in a hug and she squeezes him back in her arms. He\"s the same height as her now, nearly taller. \"I\"ve missed you loads,\" his mother says into his ear. \"I\"ve missed you too.\" Slowly they separate, but his mom holds his elbows in her hands as she looks at his face. Does she hear the thumping of his heart? Surely it must be loud enough by now. \"I\"m sure we have much to catch up on,\" she says, \"But how about I show you around first?\" He nods, a goofy grin stuck on his lips. \"Yes, please.\" His mother begins to lead him around the house. The house is small, yet much roomier than the farmhouse. Each wall is painted with light pastel shades of colours, and each piece of furniture is placed in a symmetrical position. It\"s going to take some getting used to. \"Now the room at the end of the hallway is yours,\" his mother explains, \"I\"ll let you go take a look, but if you need me I\"ll just be in the kitchen. You still like my stew correct?\" Adrien licks his lips, \"Of course.\" She smiles, studying his face once again and she brings a hand up to caress the side of his face with her palm. The gesture seems so... natural. \"You have grown to be quite handsome Adrien.\" \"Thank you Mom,\" he replies. With that she turns and leaves, and Adrien is left to walk to the room that is to be his. The wooden door opens silently, and immediately sunlight from through a window bathes him. Adrien walks through, closing the door behind him. The room is small, yet big enough for him to fit in a few bookshelves to hold his books. A bed sits in the far corner of the room, topped with gray blankets and a few white pillows. Across from it on the other wall is a tall dresser, even though Adrien will barely be able to fit just one drawer with the amount of clothes he has. On the wall closest to him is a desk, made of a dark rich wood, multiple small drawers along its sides, and a large flat surface on its top. It\"s much nicer than his desk at the farm. Someone knocks on the door, and Adrien tenses. He opens the door to see Nathalie on the other side holding a box of books with his suitcase resting on top. \"Nathalie!\" He says, quickly taking the load off her straining and trembling arms. \"I would\"ve brought these to my room myself you know.\" He can see Nathalie nod as he set the box and suitcase down. \"Oh I was aware,\" she says. \"I\"ll take the other two boxes, okay?\" Adrien says. The expression he sees on Nathalie almost appears to be a scowl. Is he not suppose to carry his own things? He does not like the idea of all his books being dealt with by another person. \"I suppose,\" Nathalie says, before she turns to walk away. \"When your done come to the kitchen because supper will be ready.\" Adrien watches her turn around the corner at the end of the hall before beginning to walk back to the front door. He doesn\"t pass by anyone as reaches the door and walks back outside. Jogging down to the car, Adrien again notices a faint lingering smell of baking in the air. It would be nice if a bakery was nearby. He always seemed to have a hankering for croissants regardless of how rarely he ever got to eat them. The sun hangs low on the horizon now, casting a dark haze over the tops of the buildings. Every colour that paints them appears more vibrant under the low light. Just as Adrien puts a hand on either side of a box of books, a certain light catches his attention. One of the windows on the top floors of a building just a couple houses away is lit from the inside. He never noticed the building driving in, and the large sign above the series of doors. A bakery, and a popular one it seems. Although it\"s still the image through the lit window that he notices. A girl sits at a desk, dark hair falling to her shoulders. A lamp beside her illuminates her face, emphasizing her large eyes. She looks to possibly be his age.'"
            ]
          },
          "execution_count": 21,
          "metadata": {},
          "output_type": "execute_result"
        }
      ],
      "source": [
        "train_x1[0]"
      ]
    },
    {
      "cell_type": "code",
      "execution_count": null,
      "metadata": {
        "colab": {
          "base_uri": "https://localhost:8080/",
          "height": 504
        },
        "id": "7jLW49d0RSow",
        "outputId": "c7033a46-a75c-468f-8660-336b8f89f256"
      },
      "outputs": [
        {
          "data": {
            "application/vnd.google.colaboratory.intrinsic+json": {
              "type": "string"
            },
            "text/plain": [
              "'Rise sucked in a small string of noodle, swallowed quickly, and leaned forward. \"You mean - you think he was talking about Personas?\" They stopped talking abruptly then, for the cook approached with Narukami\"s ramen. The team leader thanked him, and they all remained silent until he had passed out of earshot. \"It makes sense,\" Narukami said. He blew lightly on the surface of his steaming soup bowl. \"If anyone were to take advantage of or try to aggravate any part of this situation, it\"d have to be someone who knows about the Dark Hour, and that pretty much narrows it down to people involved in Kirijo\"s research and other Persona-users. And we know that a person doesn\"t need to be a saint to control their Shadow; Adachi had a Persona, too. So this cult, or more specifically the person behind it - anything we can figure out about them could be a vital piece of the puzzle.\" \"So what do we know?\" Chie asked, looking to Naoto. Teddie slurped down another bowl and called for a fifth, either having nothing to add... or still not paying attention. \"About the ones behind the cult, very little,\" Naoto said, obviously frustrated by that fact. \"I remember seeing a picture of the man referred to as \"Charisma,\\' but his identity and background were never uncovered by the media and he seemed to just up and vanish completely when the cult itself did. My grandfather did, at one point, uncover a connection to one Chidori Yoshino, but when he went to Iwatodai to question her, he found to his surprise that she was an amnesic. She remembered nothing of the past few years of her life, so there was nothing he could learn from her. Apart from that, I only know that the cult\"s popularity was sparked by an Internet personality operating under the username of \"Jin,\\' whose identity was never revealed.\" Teddie slurped noisily at his bowl. At that moment a man walked into the bar - a gruff-looking man in his late teens, clad in a trenchcoat and a beanie. He plopped down carelessly at the far side of the bar and grunted, \"The usual.\" The Investigation Team couldn\"t help but glance at him, but he paid them no notice. \"So that sums up everything I can recall about the cult that will spring up sometime around the start of January next year,\" said Naoto more quietly. Chie shook her head. \"Thinking back, it kinda makes me think of the way Inaba was in December, y\"know, when that fog covered the whole town and people were ranting about how it was poisonous and the world was gonna end? I don\"t wanna think of what would\"ve happened if we hadn\"t beaten Ameno-sagiri before New Years\"...\" The team as a whole (minus Teddie, who was still quite deep in soup), turned as one to look at Chie in surprise. She blinked at the sudden attention, and seemed to shrink in on herself. \"What? What? Don\"t tell me I hit something again...\" \"I think you just might\"ve,\" Yosuke said, tapping the counter with an almost uncharacteristically serious look on his face. \"That month was pretty much our endgame time limit to solve the case before Izanami\"s stupid fog turned everyone into Shadows. If, whatever this Dark Hour stuff is, if it all ended - or, er, ends - next January, then January might be the same for S.E.E.S. as December was for us.\" Everyone was so fixated on Yosuke\"s suggestion that none of them noticed the gruff-looking teen\"s eyes flick toward them in surprise. \"If that\"s the case, then it\"s definitely something to go on,\" Narukami said. \"Let\"s operate under the assumption of a one-year time limit, then.\" He looked at Naoto. \"You mentioned something about mysterious deaths... other than Minato Arisato, that is.\" \"Who?\" Yukiko asked. Teddie slurped away at his soup, although this time he paused to rub his belly with a slightly uncomfortable look on his face. \"Yes,\" Naoto said, nodding quietly. \"In fact, it\"s fortunate for us that my grandfather and I took on that particular case, because nearly everything about it could potentially be useful knowledge in our current predicament. To sum it up for the rest of you: in the middle of March 2010, specifically on Graduation Day at the end of his third semester, a second-year student at Gekkoukan High School mysteriously passed away of an unknown illness. The only clues as to the cause are that he was noted on several occasions prior to his death as appearing fatigued, and that he was associated with the school club listed as \"S.E.E.S.\\' during his second year - this upcoming year - of high school. The timing suggests that the cause of death is directly related to the Dark Hour, or possibly to the Dark Hour\"s disappearance, if we are to assume the Dark Hour does end along with that cult.\" Yukiko blanched. \"Wait, so... this Minato Arisato will join up with us? When? And he\"s just going to die? We can\"t let that happen, c-can we?\" Rise frowned worriedly. \"Can\"t we do anything to -?!\" \"Without knowing how or why he died, at this point, no,\" Naoto said gravely. \"But we may... learn more later. For the moment, let\"s examine what concrete foresight we can glean from that particular investigation. For starters: we know that Minato Arisato first transferred into Gekkoukan at the start of the first semester. This April, in other words, when we\"ll be starting up there ourselves. We can perhaps look into the matter then. Grandfather\"s investigation into that case also gives us something else: the identities of the students who would participate in the club during the year that followed.\" Rise beamed. \"So we know ahead of time who\"s gonna become a Persona-user! Apart from the ones we met during Golden Week, that is!\" The gruff teen in the beanie got his ramen then, and began to eat... quietly. His eyes remained facing forward. Narukami nodded. \"That could be handy to know, yeah. What do you remember about it, Naoto?\" The detective crossed her arms over her tight-bound chest, closing her eyes. \"Apart from ourselves, Kirijo-san, Sanada-san, and Takeba-san,\" she said slowly, \"I recall several others. One Junpei Iori joined the club shortly after Arisato transferred to the school; all accounts speak of the two being on good terms during school hours, with Arisato often whispering answers to Iori when he neglected to pay attention in class.\" Narukami and Yosuke shared a look, Narukami\"s amused and Yosuke\"s sheepish. \"During the following months, others joined,\" Naoto said. \"One of the Persona-users we met during Golden Week, Aigis-san, transferred into Gekkoukan after summer vacation... an orphaned middle-school student by the name of Ken Amada -\" (The gruff man abruptly stopped eating for a moment) \"- started living in the dorms, which is odd enough an occurrence even when you aren\"t aware of Personas or Shadows. Finally, a senior named Shinjiro Aragaki took up residence in the dormitory after a long absence some time afterward, though he was rarely seen in class that year...\" Naoto opened her eyes, frowning. \"That leads me into the subject of the three other mysterious deaths that occurred around that time,\" the detective said quietly. Teddie was almost done his final bowl now. He seemed rather unwilling to eat, though... \"More mysterious deaths?\" Chie asked, sounding worried. \"D-don\"t tell me more of our, um, future teammates are gonna die? Well, not if I have anything to say about it!\" she added, cracking her knuckles over her empty bowl. \"...One of them does die, yes,\" Naoto said quietly. \"The first of the mysterious deaths, which I honestly wouldn\"t have thought much of if I hadn\"t been aware of Personas and Shadows, occurred in October. The puzzling thing is, although the death occurred sometime overnight... suggesting that it happened during the Dark Hour... the cause of death was in fact a bullet wound. The death was thus written off as a result of violent crime, a textbook back-alley murder.\" Chie grinned. \"Well, if it was just some jackass with a handgun, we can handle that! So who was it who died? All we gotta do is be there and not let it happen, right?\" Naoto sighed. \"That first victim was Shinjiro Aragaki...\" The eavesdropper continued eating, but his eyes narrowed suspiciously. \"...I guess it makes sense that people would think he\"d get caught up in something shady,\" Yosuke noted sagely. \"You said he didn\"t come to school, right? I guess he got written off as a drop-out or a gang member like Kanji used to be.\" Kanji grunted uncomfortably. \"...Well, it\"s like Chie says. We just gotta be there and stop it from happening. No sweat.\" \"That\"s assuming we don\"t get caught off-guard,\" Naoto said quietly. \"Listen, there\"s one thing we can\"t do in this situation, and that\"s act rashly with what knowledge we have. We have very little of the actual, complete picture. It\"d be one thing if we had the whole story, but even the Kirijo-san of our own time told me very little about what happened on Port Island this year. It\"s one thing if we act to make things better, but we need to be careful not to trip up and make matters more complicated.\" Narukami nodded. \"If that cult business is any indication, the fate of the world may actually be at stake here. Apathy Syndrome was really widespread by the time it all blew over, so... I want us all to agree on something right now. If we figure out anything, anything at all, about what happened - about what\"s going to happen - we talk it over with each other before doing anything about it. Are we cool on this?\" Yosuke gave him the thumbs up. \"Good call, Partner.\" As the others nodded and gave their own various versions of the same answer, Teddie groaned and pushed away his stack of bowls. \"Uuuuhhhhhh...\" he moaned. \"I dun feel so goooood...\" Yosuke sent a withering look in Teddie\"s direction. \"That\"s \"cause you ate like seven bowls, you moron. Hey, aren\"t we supposed to actually, y\"know, save some of that money Ikutsuki-san gave us? What part of \"don\"t spend it all in one place\" don\"t you freakin\" get? Gah...\" \"Urp...\" burped Teddie. \"But it\"s just so... so beary dee-lish...\" Teddie cringed, clutching his tummy with both hands. \"Owwww...\" Yosuke shook his head, as did most of the others, and looked at Naoto. \"Forget him. What about the other deaths?\" The detective sighed, and scratched her head. \"This one is a bit more difficult...\"she murmured, \"because the timing suggests foul play on someone\"s part, possibly one of the victims themselves, or maybe even both of them. But without more information, it\"s impossible to say. All I know is that around the beginning of December, the C.E.O. of the Kirijo Group... that is to say, Takeharu Kirijo, Mitsuru-san\"s father, passed away. According to the official reports, his death was caused by sudden illness, but his death occurred at the same time as another important figure\"s demise, which raised quite a few eyebrows at the time.\" \"Mitsuru\"s dad dies?\" Narukami said, leaning forward. I... can\"t let that happen if it can be avoided... Naoto nodded. \"Yes. But at about the same time, the chairman of the board at Gekkoukan High - Shuji Ikutsuki - fell to his death from the top of the school observatory...\" \"Shuji... Ikutsuki?!\" Yukiko squeaked. \"Wait, not the same Ikutsuki-san we met last night!\" The Investigation Team expressed their surprise in a variety of ways; with exception to Naoto and Narukami, these ways were quite noisy, drawing the eyes of virtually everyone in the restaurant. Naoto quickly hushed the team while Narukami muttered an apology to one very disgruntled cook. The gruff-looking teen in the beanie glared openly at the Investigation Team now, frowning in a confused sort of way. Kanji caught his eye and glared back. \"What\"re you looking at, eh?!\" \"...Not much,\" grunted the teen irritably. He reached into his pocket, pulled out a wallet, and put a few bills on the table. \"I\"m done. Never mind change,\" he said as he slid off his stool and sauntered away, hands in the pockets of his coat. He walked slightly hunched over, Narukami noted, as if he were physically trying to withdraw from the rest of the world. Then, he was gone. Narukami heard Kanji mutter something profane under his breath, but the group didn\"t give the beanie-wearing teen another second\"s thought after that. There was a more important issue on their minds. \"So, about Ikutsuki-san...\" Yosuke prompted uncomfortably. Narukami empathized with what Yosuke was probably feeling: it was one thing to hear about the imminent deaths of people you\"d never met, and quite another to hear that someone you were acquainted with was destined to die. Naoto collected herself and said in her usual professional tones, \"Yes, Ikutsuki-san... he apparently fell from the observatory while stargazing late at night: a tragic accident, if the reports were to be believed. The timing was suspicious, but there was nothing else to suggest foul play was involved when I first heard of it. That said, knowing what we know now, particularly about what the school becomes late at night...\" The rest of the team nodded in grim understanding: Ikutsuki\"s death could only be connected to Tartarus. But the circumstances surrounding it, and how it might tie in with Takeharu Kirijo\"s death... \"...We need to keep an eye on anything to do with either of them,\" Narukami decided. \"For now that\"s the best we can do. If it turns out one or both of them is up to no good, then we can stop them before it goes too far. If they both turn out to be victims of something else, then we can stop that before it goes too far.\" \"Yeah,\" Chie agreed. \"It\"s gonna work a bit differently than usual, but at the end of the day, it\"s what we usually do, isn\"t it? Gather information, fight Shadows, save lives. We can do it this time, \"cause we\"ve done it all before.\" Yukiko smiled. \"Well, this time it\"s a bit more complicated than just storming a labyrinth and fighting a giant monster at the end of it all, but I think Chie\"s right. If we keep our cool and use every bit of information we can find, it shouldn\"t be too difficult to save whoever needs saving and stop whatever\"s causing all of this. After all, since the world didn\"t end, S.E.E.S. was able to win even without our help, right?\" Kanji nodded. \"Yeah, they don\"t need us. They\"ll just be twice as badass as they would\"ve been now that they got us on their side.\" Narukami smiled at his friends\" enthusiasm (Teddie was only grinning half-heartedly due to his stomach-ache), but said evenly, \"Let\"s just make sure not to go overboard. And like I said, we talk it over before acting on any of this foresight. We need to play this carefully. Just by being here, we might have changed things up in a pretty big way...\" The others all voiced their agreement, taking care to keep their voices down this time, and then Yukiko voiced the question they\"d all wondered about at some point over the past few hours: \"So, speaking of foresight... what about Labrys? I mean, we can\"t just leave her wherever she is right now, can we?\" The Investigation Team suddenly became quite sober; even Teddie seemed to forget his tummy-related antics in favor of focusing on their most recent friend, the Anti-Shadow robot they had rescued from the TV World during Golden Week. They all knew that at this point in time, Labrys was inactive, stashed away in some Kirijo Group cargo-storage facility. They also knew what the Kirijo Group had done to her back in the day... Naoto shifted uncomfortably. \"While investigating the Kirijo Group for possible leads on the culprit behind the P-1 Grand Prix incident,\" the detective said, \"I believe I may have determined the location from which Labrys was being transported when she was stolen. But I didn\"t have a chance to follow up, and...\" \"Well, that settles it, doesn\"t it?\" Yukiko said firmly. Her eyes were blazing with a fiery passion that Narukami rarely saw in the normally soft-spoken girl, but always found mesmerizing when he did. \"We can\"t just leave her stuffed in a box in some - in some warehouse! We have to get her out! If we do - maybe she won\"t even have to go through that mess in the TV World! Think about it! If we can prevent that from happening -\" Teddie was nodding fervently along with Yukiko, but then Chie blurted out, \"B-but won\"t that prevent us from having met her in the first place?\" and Teddie did a massive double-take, his jaw dropping. \"...You mean we won\"t\"ve met Labby-chan at all?\" he mumbled, looking suddenly reluctant. Narukami leaned forward on his elbows, adopting a serious posture. \"It\"s possible. We don\"t really know how any of our actions might affect future events, especially if they relate directly to our own experiences. If we intervene and try to help Labrys now, it\"s possible we might erase our reason for knowing about her in the first place... a classic time paradox situation, in other words.\" Naoto sighed. \"Yes, I was going to mention that. It\"s a question I\"d rather find an answer for before we do anything... big. It isn\"t just about meeting Labrys, either. If not for that incident, we may never have encountered the Shadow Operatives or that strange being who orchestrated the event in the first place, and we might not have known about S.E.E.S. to begin with...\" Kanji, rubbing at his blond hair in aggravation, muttered something about time-travel making his brain hurt. The others now looked conflicted: Yukiko and Teddie in particular, who Narukami understood had taken a real shine to Labrys in the short time they\"d had to get to know each other, seemed lost in their own confused thoughts. Narukami himself wasn\"t sure what to do... \"Let\"s just set that aside for now,\" Narukami said reasonably. \"Labrys is safe where she is for the moment, and will be for another few years or so. There\"s no rush. We should take some time to think about it before we make a decision.\" The others agreed, though they didn\"t seem particularly happy that the question was being left unanswered for now. Perhaps, Narukami hoped, they would learn enough about this time-travel problem that they could make an educated choice later on. \"That just leaves one matter to be discussed,\" said Naoto in a subdued voice. \"The question of what brought us here, and how we can get back to our own time.\" \"You mean apart from waiting three years?\" Kanji said gruffly. \"Let\"s face it, dudes. We\"re stuck. We don\"t know how it happened, but unless someone invents a goddamn time machine, we\"re not gonna be moving through time any way but the normal way. It sucks, but...\" It was rare for Kanji to be the first to answer a question, and even rarer for him to be insightful, but there it was. The Investigation Team looked from one to another and then Yosuke said, \"Yeah... you might be right about that, Kanji. Well, it could be worse. We coulda landed in the distant past or far future... never seen our families again ever. Compared to that, eh, three years don\"t sound so bad.\" Everyone looked uncomfortable with the prospect except Teddie, but Yukiko and Chie visibly paled at the thought. \"W-when you put it that way...\" Chie laughed nervously. \"Y-yeah, we got off lucky,\" Yukiko agreed. Everyone seemed to share that sentiment, although Narukami knew that just about everyone Teddie was attached to apart from Labrys happened to be sitting at the ramen bar with him. Teddie, as it happens, was currently uncomfortable for another reason. \"Oooooooooh,\" moaned the humanoid Shadow, clutching his midriff again with both arms. \"My t-t-t-tummy hurts...\" \"...Dude,\" Yosuke sighed. \"You had better hit a public restroom on the way back to the dorm. \"Cause I swear, you stink up the dorm bathrooms and I\"m gonna slap you upside the skull with a golf club.\" \"Yosuke, don\"t be mean...\" whined Teddie. \"Urp...!\" Teddie suddenly jumped up and ran for the bathroom. Just before the door swung completely shut, they heard a loud retching sound. The girls all curled their noses in disgust. Narukami stared deadpan in the direction Teddie had gone, while Kanji just shrugged and turned back to the bar. Yosuke\"s palm met his face and he muttered, \"What a tragic waste of good ramen...\" Author\"s Note: And there we have it, the Investigation Team\"s first official meet-up in the year 2009. As those of you familiar with Persona 3 are aware, they\"ve already slipped up in a rather big way... but we\"ll see what comes of that when it shows up, yes? Thanks for reading, and thank you all for all of these awesome reviews you\"ve been leaving me! It really gets me fired up to write this story. And don\"t mistake my earlier comment about liking the longer, more in-depth reviews more: I appreciate all of them, even the quickies. You guys are the reason I can even find the energy to bludgeon my way through this pesky writer\"s block. Not sure when the next chapter\"ll come - I\"m not one hundred percent on how the next stage of the story should go, to be honest - but it might have to wait until after I\"ve played through Persona 4 Golden myself. While I have the basic gist of it, nothing beats a complete and thorough playthrough when it comes to accuracy. I might also take a bit of time off from this story to actually complete Persona and Persona 2: Innocent Sin on the PSP for the same reason...'"
            ]
          },
          "execution_count": 22,
          "metadata": {},
          "output_type": "execute_result"
        }
      ],
      "source": [
        "train_x2[0]"
      ]
    },
    {
      "cell_type": "code",
      "execution_count": null,
      "metadata": {
        "colab": {
          "base_uri": "https://localhost:8080/"
        },
        "id": "R4XiIKAFxTz4",
        "outputId": "010cbc35-8e79-4fd4-8010-93d9a5977acc"
      },
      "outputs": [
        {
          "data": {
            "text/plain": [
              "0"
            ]
          },
          "execution_count": 23,
          "metadata": {},
          "output_type": "execute_result"
        }
      ],
      "source": [
        "train_y[0]"
      ]
    },
    {
      "cell_type": "code",
      "execution_count": null,
      "metadata": {
        "id": "UeVxfLLyEwz6"
      },
      "outputs": [],
      "source": [
        "# preprocess\n",
        "\n",
        "train_x1 = list(train_x1)\n",
        "\n",
        "train_x2 = list(train_x2)"
      ]
    },
    {
      "cell_type": "code",
      "execution_count": null,
      "metadata": {
        "id": "3-lN-pJXNco6"
      },
      "outputs": [],
      "source": [
        "from collections import Counter\n",
        "from torchtext.vocab import vocab"
      ]
    },
    {
      "cell_type": "code",
      "execution_count": null,
      "metadata": {
        "id": "ZS3ukfH-V_hG"
      },
      "outputs": [],
      "source": [
        "from torchtext.data.utils import get_tokenizer\n",
        "tokenizer = get_tokenizer('spacy')"
      ]
    },
    {
      "cell_type": "code",
      "execution_count": null,
      "metadata": {
        "id": "ld69GkQYNeja"
      },
      "outputs": [],
      "source": [
        "counter = Counter()\n",
        "\n",
        "for line in train_x1:\n",
        "    counter.update(tokenizer(line))\n",
        "vocab_1 = vocab(counter, min_freq=10, specials=('<unk>', '<BOS>', '<EOS>', '<PAD>'))"
      ]
    },
    {
      "cell_type": "code",
      "execution_count": null,
      "metadata": {
        "colab": {
          "background_save": true
        },
        "id": "sLdEJ43YPaRu"
      },
      "outputs": [],
      "source": [
        "counter = Counter()\n",
        "\n",
        "for line in train_x2:\n",
        "    counter.update(tokenizer(line))\n",
        "vocab_2 = vocab(counter, min_freq=10, specials=('<unk>', '<BOS>', '<EOS>', '<PAD>'))"
      ]
    },
    {
      "cell_type": "code",
      "execution_count": null,
      "metadata": {
        "colab": {
          "background_save": true
        },
        "id": "4wPKHhuhQYaE"
      },
      "outputs": [],
      "source": [
        "default_index = -1\n",
        "\n",
        "vocab_1.set_default_index(default_index)\n",
        "vocab_2.set_default_index(default_index)"
      ]
    },
    {
      "cell_type": "code",
      "execution_count": null,
      "metadata": {
        "colab": {
          "background_save": true
        },
        "id": "AocvEpJDPcIk"
      },
      "outputs": [],
      "source": [
        "def tosize(a, n, vcb):\n",
        "  a = np.asarray(a)\n",
        "  x = np.array([vcb[\"<PAD>\"]] * n, dtype=a.dtype)\n",
        "  m = min(n, len(a))\n",
        "  x[:m] = a[:m]\n",
        "  return x\n",
        "\n",
        "def text_transform_1(x):\n",
        "  inner =  [vocab_1[token] for token in tokenizer(x)]\n",
        "\n",
        "  inner = tosize(inner, 4096, vocab_1)\n",
        "\n",
        "  return [vocab_1['<BOS>']] + inner + [vocab_1['<EOS>']]\n",
        "\n",
        "def text_transform_2(x):\n",
        "  inner =  [vocab_2[token] for token in tokenizer(x)]\n",
        "\n",
        "  inner = tosize(inner, 4096, vocab_2)\n",
        "\n",
        "  return [vocab_2['<BOS>']] + inner + [vocab_2['<EOS>']]"
      ]
    },
    {
      "cell_type": "code",
      "execution_count": null,
      "metadata": {
        "colab": {
          "background_save": true
        },
        "id": "gWaF8EsjP6M2"
      },
      "outputs": [],
      "source": [
        "for i in range(0, len(train_x1)):\n",
        "  train_x1[i] = text_transform_1(train_x1[i])\n",
        "\n"
      ]
    },
    {
      "cell_type": "code",
      "execution_count": null,
      "metadata": {
        "colab": {
          "background_save": true
        },
        "id": "_-SzozHbVfvc"
      },
      "outputs": [],
      "source": [
        "for i in range(0, len(train_x2)):\n",
        "  train_x2[i] = text_transform_2(train_x2[i])"
      ]
    },
    {
      "cell_type": "code",
      "execution_count": null,
      "metadata": {
        "colab": {
          "background_save": true
        },
        "id": "c6T_o8LdGaly",
        "outputId": "f205e819-a49b-48b2-a095-c5d52511217e"
      },
      "outputs": [
        {
          "data": {
            "text/plain": [
              "array([   7,    8,    9, ...,  125, 1097,  758])"
            ]
          },
          "execution_count": null,
          "metadata": {},
          "output_type": "execute_result"
        }
      ],
      "source": [
        "train_x1[0]"
      ]
    },
    {
      "cell_type": "code",
      "execution_count": null,
      "metadata": {
        "colab": {
          "background_save": true
        },
        "id": "DACDILhJb0AM"
      },
      "outputs": [],
      "source": [
        "import torch\n",
        "import torch.nn as nn\n",
        "import torch.nn.functional as F\n",
        "\n",
        "\n",
        "class Net(nn.Module):\n",
        "\n",
        "    def __init__(self):\n",
        "        super(Net, self).__init__()\n",
        "        \n",
        "        self.fc1_1 = nn.Linear(4096, 128)\n",
        "        self.fc1_2 = nn.Linear(128, 64)\n",
        "        \n",
        "        \n",
        "\n",
        "        self.fc_final = nn.Linear(128, 2)\n",
        "\n",
        "    def forward(self, x_1, x_2):\n",
        "\n",
        "        x_1 = F.relu(self.fc1_1(x_1))\n",
        "        x_1 = F.relu(self.fc1_2(x_1))\n",
        "\n",
        "        x_2 = F.relu(self.fc1_1(x_2))\n",
        "        x_2 = F.relu(self.fc1_2(x_2))\n",
        "\n",
        "        x = torch.cat((x_1, x_2), dim=1)\n",
        "        \n",
        "        x = self.fc_final(x)\n",
        "        return x"
      ]
    },
    {
      "cell_type": "code",
      "execution_count": null,
      "metadata": {
        "colab": {
          "background_save": true
        },
        "id": "PuCsXy88b0ga"
      },
      "outputs": [],
      "source": [
        "net = Net()"
      ]
    },
    {
      "cell_type": "code",
      "execution_count": null,
      "metadata": {
        "colab": {
          "background_save": true
        },
        "id": "NfFJ7PpVdQTh"
      },
      "outputs": [],
      "source": [
        "criterion = nn.CrossEntropyLoss()\n",
        "optimizer = torch.optim.Adam(net.parameters(), lr=0.0001)"
      ]
    },
    {
      "cell_type": "code",
      "execution_count": null,
      "metadata": {
        "colab": {
          "background_save": true
        },
        "id": "y2JWNvIddv4H"
      },
      "outputs": [],
      "source": [
        "class MyDataset(torch.utils.data.Dataset):\n",
        "    def __init__(self, data):\n",
        "        super().__init__()\n",
        "        self.data = data\n",
        "  \n",
        "    def __getitem__(self, k):\n",
        "        return (\n",
        "            self.data[\"vectors\"][k],\n",
        "            self.data[\"labels\"][k]\n",
        "        )\n",
        "    \n",
        "    def __len__(self):\n",
        "        return len(self.data[\"labels\"])"
      ]
    },
    {
      "cell_type": "code",
      "execution_count": null,
      "metadata": {
        "colab": {
          "background_save": true
        },
        "id": "eFd5ppHDdrv8"
      },
      "outputs": [],
      "source": [
        "training_data = list(zip(train_x1, train_x2))"
      ]
    },
    {
      "cell_type": "code",
      "execution_count": null,
      "metadata": {
        "colab": {
          "background_save": true
        },
        "id": "TwbMF1lzd80q",
        "outputId": "0b8d3127-c3fe-4837-ce6a-5f6fcdf66039"
      },
      "outputs": [
        {
          "data": {
            "text/plain": [
              "(array([   7,    8,    9, ...,  125, 1097,  758]),\n",
              " array([   7,    8,    9, ..., 1078,   93, 1079]))"
            ]
          },
          "execution_count": null,
          "metadata": {},
          "output_type": "execute_result"
        }
      ],
      "source": [
        "training_data[0]"
      ]
    },
    {
      "cell_type": "code",
      "execution_count": null,
      "metadata": {
        "colab": {
          "background_save": true
        },
        "id": "8OiRsN6Eq_za",
        "outputId": "793e4803-c7b8-4cbc-bad5-c58bf79dc3e4"
      },
      "outputs": [
        {
          "data": {
            "text/plain": [
              "0"
            ]
          },
          "execution_count": null,
          "metadata": {},
          "output_type": "execute_result"
        }
      ],
      "source": [
        "train_y[0]"
      ]
    },
    {
      "cell_type": "code",
      "execution_count": null,
      "metadata": {
        "colab": {
          "background_save": true
        },
        "id": "TkbSka8YeA4r"
      },
      "outputs": [],
      "source": [
        "training_dataset = MyDataset({\n",
        "    \"vectors\": training_data,\n",
        "    \"labels\": train_y\n",
        "})"
      ]
    },
    {
      "cell_type": "code",
      "execution_count": null,
      "metadata": {
        "colab": {
          "background_save": true
        },
        "id": "cK3G-nnNRD5h"
      },
      "outputs": [],
      "source": [
        "valid_x1 = list(valid_x1)\n",
        "\n",
        "valid_x2 = list(valid_x2)"
      ]
    },
    {
      "cell_type": "code",
      "execution_count": null,
      "metadata": {
        "colab": {
          "background_save": true
        },
        "id": "ZTFbqRtNRToQ"
      },
      "outputs": [],
      "source": [
        "for i in range(0, len(valid_x1)):\n",
        "  valid_x1[i] = text_transform_1(valid_x1[i])"
      ]
    },
    {
      "cell_type": "code",
      "execution_count": null,
      "metadata": {
        "colab": {
          "background_save": true
        },
        "id": "HEign4KYRUVp"
      },
      "outputs": [],
      "source": [
        "for i in range(0, len(valid_x2)):\n",
        "  valid_x2[i] = text_transform_1(valid_x2[i])"
      ]
    },
    {
      "cell_type": "code",
      "execution_count": null,
      "metadata": {
        "colab": {
          "background_save": true
        },
        "id": "ytYoX8uTb6d6"
      },
      "outputs": [],
      "source": [
        "valid_data = list(zip(valid_x1, valid_x2))"
      ]
    },
    {
      "cell_type": "code",
      "execution_count": null,
      "metadata": {
        "colab": {
          "background_save": true
        },
        "id": "4IaHL-RbpANo",
        "outputId": "dd0545fc-0ccc-44f0-f4bc-e1af11936f75"
      },
      "outputs": [
        {
          "data": {
            "text/plain": [
              "(array([   7, 1486,  182, ...,  326,  292,  643]),\n",
              " array([ 757, 1005,    2, ..., 1420,  624,   13]))"
            ]
          },
          "execution_count": null,
          "metadata": {},
          "output_type": "execute_result"
        }
      ],
      "source": [
        "valid_data[0]"
      ]
    },
    {
      "cell_type": "code",
      "execution_count": null,
      "metadata": {
        "colab": {
          "background_save": true
        },
        "id": "edkUskOyrRp4",
        "outputId": "f9979a0e-f408-4ec4-cc7b-94b50f18d0d1"
      },
      "outputs": [
        {
          "data": {
            "text/plain": [
              "1"
            ]
          },
          "execution_count": null,
          "metadata": {},
          "output_type": "execute_result"
        }
      ],
      "source": [
        "valid_y[0]"
      ]
    },
    {
      "cell_type": "code",
      "execution_count": null,
      "metadata": {
        "colab": {
          "background_save": true
        },
        "id": "W7qbrVNXbfAY"
      },
      "outputs": [],
      "source": [
        "valid_dataset = MyDataset({\n",
        "    \"vectors\": valid_data,\n",
        "    \"labels\": valid_y\n",
        "})"
      ]
    },
    {
      "cell_type": "code",
      "execution_count": null,
      "metadata": {
        "colab": {
          "background_save": true
        },
        "id": "j33vQlkpeLGf"
      },
      "outputs": [],
      "source": [
        "training_generator = torch.utils.data.DataLoader(training_dataset)"
      ]
    },
    {
      "cell_type": "code",
      "execution_count": null,
      "metadata": {
        "colab": {
          "background_save": true
        },
        "id": "zIzOMmWOctOg"
      },
      "outputs": [],
      "source": [
        "valid_generator = torch.utils.data.DataLoader(valid_dataset)"
      ]
    },
    {
      "cell_type": "code",
      "execution_count": null,
      "metadata": {
        "colab": {
          "background_save": true
        },
        "id": "S9UaEabSdJjB"
      },
      "outputs": [],
      "source": [
        "def accuracy(predictions, labels):\n",
        "    return torch.mean((predictions == labels).float())"
      ]
    },
    {
      "cell_type": "code",
      "execution_count": null,
      "metadata": {
        "id": "Z01lIrwCdIcD"
      },
      "outputs": [],
      "source": [
        "best_model = None\n",
        "\n",
        "min_val_loss = 100.0\n",
        "\n",
        "accs = []\n",
        "val_accs = []\n",
        "losses = []\n",
        "val_losses = []\n",
        "\n",
        "for epoch in range(15):\n",
        "\n",
        "    net.train()\n",
        "    total_loss = 0.0\n",
        "    total_val_loss = 0.0\n",
        "    correct = 0.0\n",
        "    val_correct = 0.0\n",
        "\n",
        "    for idx, (input, label) in enumerate(training_generator):\n",
        "        # print(idx)\n",
        "\n",
        "        # zero the parameter gradients\n",
        "        optimizer.zero_grad()\n",
        "\n",
        "        outputs = net(input[0].float(), input[1].float())\n",
        "        # outputs = torch.argmax(outputs)\n",
        "\n",
        "\n",
        "        loss = criterion(outputs, label.long())\n",
        "        total_loss += loss\n",
        "\n",
        "        correct += accuracy(torch.argmax(outputs, dim=1), label)\n",
        "\n",
        "        loss.backward()\n",
        "        optimizer.step()\n",
        "\n",
        "        # validare\n",
        "    net.eval()\n",
        "    with torch.no_grad():\n",
        "      for idy, (input, label) in enumerate(valid_generator):\n",
        "\n",
        "        output = net(input[0].float(), input[1].float()) \n",
        "        val_loss = criterion(output, label.long())\n",
        "        total_val_loss += val_loss.item() \n",
        "\n",
        "        val_correct += accuracy(torch.argmax(output, dim=1), label)\n",
        "\n",
        "    if (total_val_loss / len(valid_generator) < min_val_loss):\n",
        "      min_val_loss = total_val_loss / len(valid_generator)\n",
        "      print(\"Best model changed\")\n",
        "      torch.save(net, \"best.pt\")\n",
        "\n",
        "    losses.append(total_loss / len(training_generator))\n",
        "    val_losses.append(total_val_loss / len(valid_generator))\n",
        "\n",
        "    accs.append((100 * correct / len(training_generator)).item())\n",
        "    val_accs.append((100 * val_correct / len(valid_generator)).item())\n",
        "\n",
        "    print(f\"epoch: {epoch}, train loss: {total_loss / len(training_generator)}, validation loss: {total_val_loss / len(valid_generator)}\\n\\t\\ttrain accuracy: {100 * correct / len(training_generator)}, validation accuracy: {100 * val_correct / len(valid_generator)}\")\n",
        "\n",
        "print('Finished Training')"
      ]
    },
    {
      "cell_type": "code",
      "execution_count": null,
      "metadata": {
        "id": "qCuuTzKIetqg"
      },
      "outputs": [],
      "source": [
        "import matplotlib.pyplot as plt\n",
        "\n",
        "plt.plot(np.arange(0, 15, 1), losses, label=\"train\")\n",
        "plt.plot(np.arange(0, 15, 1), val_losses, label=\"validation\")\n",
        "plt.title(\"Losses - train vs validation\")\n",
        "plt.legend()"
      ]
    },
    {
      "cell_type": "code",
      "execution_count": null,
      "metadata": {
        "id": "7mr9bOw3ex-L"
      },
      "outputs": [],
      "source": [
        "plt.plot(np.arange(0, 15, 1), accs, label=\"train\")\n",
        "plt.plot(np.arange(0, 15, 1), val_accs, label=\"validation\")\n",
        "plt.title(\"Accuracy - train vs validation\")\n",
        "plt.legend()"
      ]
    }
  ],
  "metadata": {
    "accelerator": "GPU",
    "colab": {
      "collapsed_sections": [],
      "name": "proiectBit.ipynb",
      "provenance": []
    },
    "kernelspec": {
      "display_name": "Python 3",
      "name": "python3"
    },
    "language_info": {
      "name": "python"
    }
  },
  "nbformat": 4,
  "nbformat_minor": 0
}